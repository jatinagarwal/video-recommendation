{
 "cells": [
  {
   "cell_type": "code",
   "execution_count": 1,
   "metadata": {
    "collapsed": false
   },
   "outputs": [],
   "source": [
    "from pyspark.sql import SparkSession\n",
    "\n",
    "spark = SparkSession.builder.appName(\"video recommendation\").config(\"spark.some.config.option\", \"some-value\").getOrCreate()"
   ]
  },
  {
   "cell_type": "code",
   "execution_count": 2,
   "metadata": {
    "collapsed": false
   },
   "outputs": [],
   "source": [
    "inputPath=\"/home/jatin/Documents/spark-notebook-0.6.2-scala-2.11.7-spark-1.6.0-hadoop-2.2.0-with-hive-with-parquet/notebooks/video-recommendation/videoMetaDataInCsvFormat\""
   ]
  },
  {
   "cell_type": "code",
   "execution_count": 3,
   "metadata": {
    "collapsed": false
   },
   "outputs": [],
   "source": [
    "englishStopWords = [\"a\", \"about\", \"above\", \"above\", \"across\", \"after\", \"afterwards\", \"again\", \"against\", \"all\", \"almost\", \"alone\", \"along\", \"already\", \"also\",\"although\",\"always\",\"am\",\"among\", \"amongst\", \"amoungst\", \"amount\",  \"an\", \"and\", \"another\", \"any\",\"anyhow\",\"anyone\",\"anything\",\"anyway\", \"anywhere\", \"are\", \"around\", \"as\",  \"at\", \"back\",\"be\",\"became\", \"because\",\"become\",\"becomes\", \"becoming\", \"been\", \"before\", \"beforehand\", \"behind\", \"being\", \"below\", \"beside\", \"besides\", \"between\", \"beyond\", \"bill\", \"both\", \"bottom\",\"but\", \"by\", \"call\", \"can\", \"cannot\", \"cant\", \"co\", \"con\", \"could\", \"couldnt\", \"cry\", \"de\", \"describe\", \"detail\", \"do\", \"done\", \"down\", \"due\", \"during\", \"each\", \"eg\", \"eight\", \"either\", \"eleven\",\"else\", \"elsewhere\", \"empty\", \"enough\", \"etc\", \"even\", \"ever\", \"every\", \"everyone\", \"everything\", \"everywhere\", \"except\", \"few\", \"fifteen\", \"fify\", \"fill\", \"find\", \"fire\", \"first\", \"five\", \"for\", \"former\", \"formerly\", \"forty\", \"found\", \"four\", \"from\", \"front\", \"full\", \"further\", \"get\", \"give\", \"go\", \"had\", \"has\", \"hasnt\", \"have\", \"he\", \"hence\", \"her\", \"here\", \"hereafter\", \"hereby\", \"herein\", \"hereupon\", \"hers\", \"herself\", \"him\", \"himself\", \"his\", \"how\", \"however\", \"hundred\", \"ie\", \"if\", \"in\", \"inc\", \"indeed\", \"interest\", \"into\", \"is\", \"it\", \"its\", \"itself\", \"keep\", \"last\", \"latter\", \"latterly\", \"least\", \"less\", \"ltd\", \"made\", \"many\", \"may\", \"me\", \"meanwhile\", \"might\", \"mill\", \"mine\", \"more\", \"moreover\", \"most\", \"mostly\", \"move\", \"much\", \"must\", \"my\", \"myself\", \"name\", \"namely\", \"neither\", \"never\", \"nevertheless\", \"next\", \"nine\", \"no\", \"nobody\", \"none\", \"noone\", \"nor\", \"not\", \"nothing\", \"now\", \"nowhere\", \"of\", \"off\", \"often\", \"on\", \"once\", \"one\", \"only\", \"onto\", \"or\", \"other\", \"others\", \"otherwise\", \"our\", \"ours\", \"ourselves\", \"out\", \"over\", \"own\",\"part\", \"per\", \"perhaps\", \"please\", \"put\", \"rather\", \"re\", \"same\", \"see\", \"seem\", \"seemed\", \"seeming\", \"seems\", \"serious\", \"several\", \"she\", \"should\", \"show\", \"side\", \"since\", \"sincere\", \"six\", \"sixty\", \"so\", \"some\", \"somehow\", \"someone\", \"something\", \"sometime\", \"sometimes\", \"somewhere\", \"still\", \"such\", \"system\", \"take\", \"ten\", \"than\", \"that\", \"the\", \"their\", \"them\", \"themselves\", \"then\", \"thence\", \"there\", \"thereafter\", \"thereby\", \"therefore\", \"therein\", \"thereupon\", \"these\", \"they\", \"thickv\", \"thin\", \"third\", \"this\", \"those\", \"though\", \"three\", \"through\", \"throughout\", \"thru\", \"thus\", \"to\", \"together\", \"too\", \"top\", \"toward\", \"towards\", \"twelve\", \"twenty\", \"two\", \"un\", \"under\", \"until\", \"up\", \"upon\", \"us\", \"very\", \"via\", \"was\", \"we\", \"well\", \"were\", \"what\", \"whatever\", \"when\", \"whence\", \"whenever\", \"where\", \"whereafter\", \"whereas\", \"whereby\", \"wherein\", \"whereupon\", \"wherever\", \"whether\", \"which\", \"while\", \"whither\", \"who\", \"whoever\", \"whole\", \"whom\", \"whose\", \"why\", \"will\", \"with\", \"within\", \"without\", \"would\", \"yet\", \"you\", \"your\", \"yours\", \"yourself\", \"yourselves\", \"the\"]"
   ]
  },
  {
   "cell_type": "code",
   "execution_count": 4,
   "metadata": {
    "collapsed": false
   },
   "outputs": [
    {
     "data": {
      "text/plain": [
       "59800"
      ]
     },
     "execution_count": 4,
     "metadata": {},
     "output_type": "execute_result"
    }
   ],
   "source": [
    "#Reading file containing video meta data to make initial RDD\n",
    "readFile = sc.textFile(inputPath).cache()\n",
    "readFile.count()"
   ]
  },
  {
   "cell_type": "code",
   "execution_count": 5,
   "metadata": {
    "collapsed": false
   },
   "outputs": [
    {
     "data": {
      "text/plain": [
       "[u'0_04xqwyas,\\'Edge of Alaska\\': Keeping a Frontier Town Remote,All it takes is one big attraction to change everything. Will McCarthy be next?,\"reality tv series, edge of alaska, mccarthy alaska, frontier town, off grid living, takeetna alaska\"',\n",
       " u'0_0m8u8g4c,\\'MythBusters\\': Shark Feeding Frenzy Defense,\"While testing the repelling abilities of \"\"essence of dead shark\"\", Jamie hopes his beret will serve as more than just a fashion statement.\",\"reality tv series, mythbusters, jamie hyneman, adam savage, urban legends, shark myths, feeding frenzy, mythbusters shark tests, shark armor\"',\n",
       " u'0_0pd5gia9,\\'MythBusters\\': A MythBusting Lightsaber Duel,Jamie and Adam put the myth of higher ground to the test in this epic lightsaber battle.,\"reality tv series, mythbusters, jamie hyneman, adam savage, urban legends, lightsaber dueling\"',\n",
       " u'0_0uwz3tkl,Behind the Scenes - Lucky Influencers: What Was Your Fashion First?,\"5 fashion industry influencers, Va$shtie Kola, Lily Kwong, Amirah Kassem, Christina Caradona and Ali Michaels, show off their favorite pieces sold on LuckyShops.com and share their first major purchases.\",\"luckymag.com, lucky magazine, lucky, luckyshops.com, fashion, shopping, style, va$htie kola, lily kwong, amirah kassem, christina caradona, ali michaels, season: season 1, series: behind the scenes\"',\n",
       " u'0_0v2yok9d,How Your Brain Experiences Virtual Reality,Virtual Reality may be the future but maybe not for women. Why does VR affect the sexes differently?,\"virtual reality, vr, sexism, neuroscience, gender, motion parallax, shape-from-shading, neurons, motion sickness, proprioception, oculus rift, perception, eyes, hormones, 3d, 3 dimensional, c-technology, dnews, education, science, discovery news, d news, age=14 15 16 17, julia wilde\"']"
      ]
     },
     "execution_count": 5,
     "metadata": {},
     "output_type": "execute_result"
    }
   ],
   "source": [
    "readFile.take(5)"
   ]
  },
  {
   "cell_type": "code",
   "execution_count": 6,
   "metadata": {
    "collapsed": false
   },
   "outputs": [],
   "source": [
    "def formatInput(item):\n",
    "     name = item.split(\",\")[0]\n",
    "     return (name,item.replace(name+\",\",\"\"))\n",
    "\n",
    "nameFromCsv = readFile.map(formatInput)\n",
    "#                                name = item.split(\",\")(0)\n",
    "#                               (name,item.replace(name+\",\",\"\"))\n",
    "#                               }"
   ]
  },
  {
   "cell_type": "code",
   "execution_count": 7,
   "metadata": {
    "collapsed": false
   },
   "outputs": [
    {
     "data": {
      "text/plain": [
       "[(u'0_04xqwyas',\n",
       "  u'\\'Edge of Alaska\\': Keeping a Frontier Town Remote,All it takes is one big attraction to change everything. Will McCarthy be next?,\"reality tv series, edge of alaska, mccarthy alaska, frontier town, off grid living, takeetna alaska\"'),\n",
       " (u'0_0m8u8g4c',\n",
       "  u'\\'MythBusters\\': Shark Feeding Frenzy Defense,\"While testing the repelling abilities of \"\"essence of dead shark\"\", Jamie hopes his beret will serve as more than just a fashion statement.\",\"reality tv series, mythbusters, jamie hyneman, adam savage, urban legends, shark myths, feeding frenzy, mythbusters shark tests, shark armor\"')]"
      ]
     },
     "execution_count": 7,
     "metadata": {},
     "output_type": "execute_result"
    }
   ],
   "source": [
    "nameFromCsv.take(2)"
   ]
  },
  {
   "cell_type": "code",
   "execution_count": 8,
   "metadata": {
    "collapsed": false
   },
   "outputs": [],
   "source": [
    "reserveWords = sc.broadcast(englishStopWords)"
   ]
  },
  {
   "cell_type": "code",
   "execution_count": 9,
   "metadata": {
    "collapsed": false
   },
   "outputs": [],
   "source": [
    "import re\n",
    "def bagOfWords(item):\n",
    "    regexSpecialChars = \"\"\"[^a-zA-Z0-9\\s]\"\"\"\n",
    "    noSymbolsLine = re.sub(regexSpecialChars, \" \",item)\n",
    "    stopWords = reserveWords.value\n",
    "    listOfWords = noSymbolsLine.split()\n",
    "    nonEmptyWords = filter(lambda x :x != \"\",listOfWords)\n",
    "    removeReserveWords = []\n",
    "    for word in nonEmptyWords:\n",
    "        if word not in stopWords:\n",
    "            removeReserveWords.append(word.lower())\n",
    "    return removeReserveWords"
   ]
  },
  {
   "cell_type": "code",
   "execution_count": 10,
   "metadata": {
    "collapsed": false
   },
   "outputs": [
    {
     "name": "stdout",
     "output_type": "stream",
     "text": [
      "['edge', 'alaska', 'keeping', 'frontier', '1232', 'town', 'remote', 'all', 'takes', 'big', 'attraction', 'change', 'will', 'mccarthy', 'reality', 'tv', 'series', 'edge', 'alaska', 'mccarthy', 'alaska', 'frontier', 'town', 'grid', 'living', 'takeetna', 'alaska']\n"
     ]
    }
   ],
   "source": [
    "bow = bagOfWords(\"'Edge of Alaska': Keeping a Frontier 1232 Town  @ #Remote,All it takes is () *%* one big attraction to change everything. Will McCarthy be next?,\\\"reality tv series, edge of alaska, mccarthy alaska, frontier town, off grid living, takeetna alaska\\\"\")\n",
    "print bow"
   ]
  },
  {
   "cell_type": "code",
   "execution_count": 11,
   "metadata": {
    "collapsed": false
   },
   "outputs": [
    {
     "name": "stdout",
     "output_type": "stream",
     "text": [
      "PythonRDD[5] at RDD at PythonRDD.scala:48\n"
     ]
    }
   ],
   "source": [
    "cleandData = nameFromCsv.mapValues(bagOfWords).cache()\n",
    "print cleandData"
   ]
  },
  {
   "cell_type": "code",
   "execution_count": 12,
   "metadata": {
    "collapsed": false
   },
   "outputs": [],
   "source": [
    "# Cross Checking count of data after cleaning \n",
    "numDocs = cleandData.count()"
   ]
  },
  {
   "cell_type": "code",
   "execution_count": 13,
   "metadata": {
    "collapsed": false
   },
   "outputs": [
    {
     "name": "stdout",
     "output_type": "stream",
     "text": [
      "59800\n"
     ]
    }
   ],
   "source": [
    "print numDocs"
   ]
  },
  {
   "cell_type": "code",
   "execution_count": 14,
   "metadata": {
    "collapsed": false
   },
   "outputs": [],
   "source": [
    "readFile.unpersist()\n",
    "from collections import Counter\n",
    "def calculateTermFreq(item):\n",
    "    return Counter(item).items()"
   ]
  },
  {
   "cell_type": "code",
   "execution_count": 15,
   "metadata": {
    "collapsed": false
   },
   "outputs": [],
   "source": [
    "it = calculateTermFreq(bow)"
   ]
  },
  {
   "cell_type": "code",
   "execution_count": 16,
   "metadata": {
    "collapsed": false
   },
   "outputs": [
    {
     "name": "stdout",
     "output_type": "stream",
     "text": [
      "[('town', 2), ('living', 1), ('keeping', 1), ('remote', 1), ('takes', 1), ('1232', 1), ('frontier', 2), ('tv', 1), ('big', 1), ('alaska', 4), ('mccarthy', 2), ('will', 1), ('attraction', 1), ('edge', 2), ('grid', 1), ('all', 1), ('series', 1), ('takeetna', 1), ('reality', 1), ('change', 1)]\n"
     ]
    }
   ],
   "source": [
    "print it"
   ]
  },
  {
   "cell_type": "code",
   "execution_count": 17,
   "metadata": {
    "collapsed": false
   },
   "outputs": [],
   "source": [
    "termDocumentFrequencies = cleandData.mapValues(calculateTermFreq)"
   ]
  },
  {
   "cell_type": "code",
   "execution_count": 18,
   "metadata": {
    "collapsed": false
   },
   "outputs": [
    {
     "name": "stdout",
     "output_type": "stream",
     "text": [
      "[(u'town', 2), (u'living', 1), (u'keeping', 1), (u'remote', 1), (u'takes', 1), (u'frontier', 2), (u'tv', 1), (u'big', 1), (u'alaska', 4), (u'mccarthy', 2), (u'will', 1), (u'attraction', 1), (u'edge', 2), (u'grid', 1), (u'all', 1), (u'series', 1), (u'takeetna', 1), (u'reality', 1), (u'change', 1)]\n"
     ]
    }
   ],
   "source": [
    "sampleItem = termDocumentFrequencies.take(1)[0][1]\n",
    "print sampleItem"
   ]
  },
  {
   "cell_type": "code",
   "execution_count": 19,
   "metadata": {
    "collapsed": false
   },
   "outputs": [],
   "source": [
    "idDocs = termDocumentFrequencies.map(lambda x: x[0]).zipWithUniqueId().collectAsMap()#.toMap"
   ]
  },
  {
   "cell_type": "code",
   "execution_count": 20,
   "metadata": {
    "collapsed": false
   },
   "outputs": [
    {
     "data": {
      "text/plain": [
       "dict"
      ]
     },
     "execution_count": 20,
     "metadata": {},
     "output_type": "execute_result"
    }
   ],
   "source": [
    "type(idDocs)"
   ]
  },
  {
   "cell_type": "code",
   "execution_count": 84,
   "metadata": {
    "collapsed": false
   },
   "outputs": [],
   "source": [
    "# idDocs"
   ]
  },
  {
   "cell_type": "code",
   "execution_count": 21,
   "metadata": {
    "collapsed": false
   },
   "outputs": [],
   "source": [
    "docIds = dict((v,k) for k,v in idDocs.iteritems())\n",
    "# docIds.take(2)"
   ]
  },
  {
   "cell_type": "code",
   "execution_count": 22,
   "metadata": {
    "collapsed": false
   },
   "outputs": [
    {
     "data": {
      "text/plain": [
       "u'0_04xqwyas'"
      ]
     },
     "execution_count": 22,
     "metadata": {},
     "output_type": "execute_result"
    }
   ],
   "source": [
    "docIds[0]"
   ]
  },
  {
   "cell_type": "code",
   "execution_count": 23,
   "metadata": {
    "collapsed": false
   },
   "outputs": [],
   "source": [
    "docVect = termDocumentFrequencies.flatMapValues(lambda x:x).values().reduceByKey(lambda x,y:x + y).cache()"
   ]
  },
  {
   "cell_type": "code",
   "execution_count": 24,
   "metadata": {
    "collapsed": false
   },
   "outputs": [
    {
     "data": {
      "text/plain": [
       "PythonRDD[5] at RDD at PythonRDD.scala:48"
      ]
     },
     "execution_count": 24,
     "metadata": {},
     "output_type": "execute_result"
    }
   ],
   "source": [
    "cleandData.unpersist()"
   ]
  },
  {
   "cell_type": "code",
   "execution_count": 25,
   "metadata": {
    "collapsed": false
   },
   "outputs": [
    {
     "data": {
      "text/plain": [
       "34629"
      ]
     },
     "execution_count": 25,
     "metadata": {},
     "output_type": "execute_result"
    }
   ],
   "source": [
    "docVect.count()"
   ]
  },
  {
   "cell_type": "code",
   "execution_count": 26,
   "metadata": {
    "collapsed": false
   },
   "outputs": [
    {
     "data": {
      "text/plain": [
       "u'abenteuerliche'"
      ]
     },
     "execution_count": 26,
     "metadata": {},
     "output_type": "execute_result"
    }
   ],
   "source": [
    "docVect.take(10)[2][0]"
   ]
  },
  {
   "cell_type": "code",
   "execution_count": 27,
   "metadata": {
    "collapsed": false
   },
   "outputs": [],
   "source": [
    "vocabRdd = docVect.filter(lambda item: item[1] > 5 and len(item[0]) > 3).cache()\n",
    "corpusVocab = vocabRdd.collect()"
   ]
  },
  {
   "cell_type": "code",
   "execution_count": 28,
   "metadata": {
    "collapsed": false
   },
   "outputs": [
    {
     "name": "stdout",
     "output_type": "stream",
     "text": [
      "9834\n"
     ]
    }
   ],
   "source": [
    "numOfFeatures = vocabRdd.count()\n",
    "vocabRdd.unpersist()\n",
    "print numOfFeatures"
   ]
  },
  {
   "cell_type": "code",
   "execution_count": 29,
   "metadata": {
    "collapsed": false
   },
   "outputs": [],
   "source": [
    "# FUNCTION TO COMPUTE INVERSE DCOUMENT FREQUENCIES\n",
    "from math import log1p\n",
    "def inverseDocumentFrequencies(docFreqs, numDocs):\n",
    "    return map( lambda tup : (tup[0], log1p(float(numDocs) / tup[1])), docFreqs)"
   ]
  },
  {
   "cell_type": "code",
   "execution_count": 30,
   "metadata": {
    "collapsed": false
   },
   "outputs": [],
   "source": [
    "#Computing inverse document frequencies 'idfs' from document frequencies\n",
    "idfs = inverseDocumentFrequencies(corpusVocab, numDocs)"
   ]
  },
  {
   "cell_type": "code",
   "execution_count": 31,
   "metadata": {
    "collapsed": false
   },
   "outputs": [],
   "source": [
    "idfsMap = dict(idfs)"
   ]
  },
  {
   "cell_type": "code",
   "execution_count": 32,
   "metadata": {
    "collapsed": false
   },
   "outputs": [],
   "source": [
    "# /* Broadcasting 'idfs' across nodes of cluster*/\n",
    "bidfs = sc.broadcast(idfsMap)"
   ]
  },
  {
   "cell_type": "code",
   "execution_count": 33,
   "metadata": {
    "collapsed": false
   },
   "outputs": [],
   "source": [
    "# /* Collecting all the terms after filtering (terms, df) pairs*/\n",
    "termsIds = dict(enumerate(idfsMap.keys()))#.zipWithIndex()\n",
    "# print termsIds/"
   ]
  },
  {
   "cell_type": "code",
   "execution_count": 34,
   "metadata": {
    "collapsed": false
   },
   "outputs": [
    {
     "data": {
      "text/plain": [
       "dict"
      ]
     },
     "execution_count": 34,
     "metadata": {},
     "output_type": "execute_result"
    }
   ],
   "source": [
    "type(termsIds)"
   ]
  },
  {
   "cell_type": "code",
   "execution_count": 35,
   "metadata": {
    "collapsed": false
   },
   "outputs": [],
   "source": [
    "vocabulary = dict((v,k) for k,v in termsIds.iteritems())\n",
    "termList = sc.broadcast(vocabulary)"
   ]
  },
  {
   "cell_type": "code",
   "execution_count": 36,
   "metadata": {
    "collapsed": false
   },
   "outputs": [
    {
     "data": {
      "text/plain": [
       "PythonRDD[13] at RDD at PythonRDD.scala:48"
      ]
     },
     "execution_count": 36,
     "metadata": {},
     "output_type": "execute_result"
    }
   ],
   "source": [
    "docVectWithId =  docVect.zipWithIndex().map(lambda x:(x[1],x[0])).cache()\n",
    "# // val pairs = docVectWithId.values.keys\n",
    "docVect.unpersist()"
   ]
  },
  {
   "cell_type": "code",
   "execution_count": 37,
   "metadata": {
    "collapsed": false
   },
   "outputs": [],
   "source": [
    "import numpy\n",
    "from pyspark.mllib.linalg import *\n",
    "from pyspark import StorageLevel\n",
    "from pyspark.mllib.linalg.distributed import RowMatrix\n",
    "def createVector(item):\n",
    "    itemDict = dict(item)\n",
    "    allIdentifiers = termList.value#/* Locally obtaining broadcasted  values */\n",
    "    termInThisDocument = itemDict.keys()#/* Obtaining all terms from this document*/\n",
    "    sizeOfVector = len(allIdentifiers)#/* Computing number of terms(identifiers) across all the documents*/\n",
    "    tfidfMap = dict()#/* Computing a map of (identifier, tfidf) pairs from term-document\n",
    "#            (identifier, count) pairs and document-frequency (identifier, idfs) pair */\n",
    "    for term in termInThisDocument:\n",
    "        if term in allIdentifiers:\n",
    "            tfidfMap[allIdentifiers[term]]=itemDict[term]\n",
    "    return Vectors.sparse(numOfFeatures,tfidfMap)\n",
    "#     return tfidfMap\n",
    "tfidfVector = termDocumentFrequencies.mapValues(createVector)\n",
    "# import org.apache.spark.mllib.linalg.{Matrix, SingularValueDecomposition, Vectors, Matrices, Vector}\n",
    "# import org.apache.spark.storage.StorageLevel\n",
    "\n",
    "# /* Constructing vector for metData of every video */\n",
    "\n",
    "# val tfidfVector: RDD[(String, Vector)] = termDocumentFrequencies.mapValues{termFreqPair =>\n",
    "#       val allIdentifiers = termList.value/* Locally obtaining broadcasted  values */\n",
    "#       //val docTotalTerms: Double = termFreqPair.values.sum + 0.0\n",
    "#       val termInThisDocument: List[String] = termFreqPair.keySet.toList/* Obtaining all terms from this document*/\n",
    "#       val sizeOfVector: Int = allIdentifiers.size/* Computing number of terms(identifiers) across all the documents*/\n",
    "#       var tfidfMap:Map[Int,Double] = Map()/* Computing a map of (identifier, tfidf) pairs from term-document\n",
    "#            (identifier, count) pairs and document-frequency (identifier, idfs) pair */\n",
    "#       for(term <- termInThisDocument if allIdentifiers.contains(term)) {\n",
    "#         tfidfMap += (allIdentifiers(term) -> termFreqPair(term)) /* TFIDF computation */\n",
    "#       }\n",
    "#       val tfidfSeq: Seq[(Int, Double)] = tfidfMap.toSeq/* Converting 'tfidfMap' map to a sequence */\n",
    "#       Vectors.sparse(sizeOfVector, tfidfSeq) /*Obtaining sparse vector from 'tfidfSeq' sequence and 'sizeOfVector'*/\n",
    "# }\n",
    "# tfidfVector.persist(StorageLevel.MEMORY_AND_DISK)"
   ]
  },
  {
   "cell_type": "code",
   "execution_count": 38,
   "metadata": {
    "collapsed": false
   },
   "outputs": [
    {
     "data": {
      "text/plain": [
       "pyspark.rdd.PipelinedRDD"
      ]
     },
     "execution_count": 38,
     "metadata": {},
     "output_type": "execute_result"
    }
   ],
   "source": [
    "type(tfidfVector)"
   ]
  },
  {
   "cell_type": "code",
   "execution_count": 39,
   "metadata": {
    "collapsed": false
   },
   "outputs": [
    {
     "data": {
      "text/plain": [
       "SparseVector(9834, {184: 1.0, 765: 1.0, 1299: 1.0, 2943: 1.0, 3044: 1.0, 3696: 1.0, 5061: 2.0, 5719: 1.0, 6034: 1.0, 6154: 1.0, 6259: 2.0, 6828: 4.0, 9086: 2.0, 9439: 2.0, 9633: 1.0})"
      ]
     },
     "execution_count": 39,
     "metadata": {},
     "output_type": "execute_result"
    }
   ],
   "source": [
    "createVector(sampleItem)"
   ]
  },
  {
   "cell_type": "code",
   "execution_count": 40,
   "metadata": {
    "collapsed": false
   },
   "outputs": [
    {
     "data": {
      "text/plain": [
       "SparseVector(9834, {184: 1.0, 765: 1.0, 1299: 1.0, 2943: 1.0, 3044: 1.0, 3696: 1.0, 5061: 2.0, 5719: 1.0, 6034: 1.0, 6154: 1.0, 6259: 2.0, 6828: 4.0, 9086: 2.0, 9439: 2.0, 9633: 1.0})"
      ]
     },
     "execution_count": 40,
     "metadata": {},
     "output_type": "execute_result"
    }
   ],
   "source": [
    "createVector(sampleItem)"
   ]
  },
  {
   "cell_type": "code",
   "execution_count": 41,
   "metadata": {
    "collapsed": false
   },
   "outputs": [
    {
     "data": {
      "text/plain": [
       "PythonRDD[13] at RDD at PythonRDD.scala:48"
      ]
     },
     "execution_count": 41,
     "metadata": {},
     "output_type": "execute_result"
    }
   ],
   "source": [
    "tfidfVector.persist(StorageLevel.MEMORY_AND_DISK)\n",
    "tfidfVector.count()\n",
    "docVect.unpersist()"
   ]
  },
  {
   "cell_type": "code",
   "execution_count": 42,
   "metadata": {
    "collapsed": false
   },
   "outputs": [],
   "source": [
    "#/* Constructing row matrix for terms and metaData of each video */\n",
    "mat = RowMatrix(tfidfVector.values())\n",
    "m = mat.numRows()# /* Number of rows in a matrix */\n",
    "n= mat.numCols()# /* Number of columns in a matrix */\n",
    "#/* Computing svd from the 'mat' to obtain matrices*/\n",
    "# svd = mat.computeSVD(30, computeU=true)"
   ]
  },
  {
   "cell_type": "code",
   "execution_count": 43,
   "metadata": {
    "collapsed": false
   },
   "outputs": [],
   "source": [
    "samMat = tfidfVector.values().map(lambda item: item.toArray())"
   ]
  },
  {
   "cell_type": "code",
   "execution_count": 44,
   "metadata": {
    "collapsed": false
   },
   "outputs": [
    {
     "data": {
      "text/plain": [
       "pyspark.rdd.PipelinedRDD"
      ]
     },
     "execution_count": 44,
     "metadata": {},
     "output_type": "execute_result"
    }
   ],
   "source": [
    "# samMat.saveAsTextFile(\"matrix\")\n",
    "type(samMat)"
   ]
  },
  {
   "cell_type": "code",
   "execution_count": null,
   "metadata": {
    "collapsed": false
   },
   "outputs": [],
   "source": [
    "type(samMat.first())"
   ]
  },
  {
   "cell_type": "code",
   "execution_count": null,
   "metadata": {
    "collapsed": false
   },
   "outputs": [],
   "source": [
    "import numpy as np"
   ]
  },
  {
   "cell_type": "code",
   "execution_count": null,
   "metadata": {
    "collapsed": false
   },
   "outputs": [],
   "source": [
    "a = np.random.randn(9, 6) + 1j*np.random.randn(9, 6)"
   ]
  },
  {
   "cell_type": "code",
   "execution_count": null,
   "metadata": {
    "collapsed": false
   },
   "outputs": [],
   "source": [
    "type(a)"
   ]
  },
  {
   "cell_type": "code",
   "execution_count": null,
   "metadata": {
    "collapsed": false
   },
   "outputs": [],
   "source": [
    "# U, s, V = np.linalg.svd(samMat.collect(), full_matrices=True)"
   ]
  },
  {
   "cell_type": "code",
   "execution_count": null,
   "metadata": {
    "collapsed": false
   },
   "outputs": [],
   "source": [
    "# type(U)"
   ]
  },
  {
   "cell_type": "code",
   "execution_count": null,
   "metadata": {
    "collapsed": false
   },
   "outputs": [],
   "source": [
    "U.shape, V.shape, s.shape"
   ]
  },
  {
   "cell_type": "code",
   "execution_count": null,
   "metadata": {
    "collapsed": true
   },
   "outputs": [],
   "source": [
    "S = np.zeros((9, 6), dtype=complex)"
   ]
  },
  {
   "cell_type": "code",
   "execution_count": null,
   "metadata": {
    "collapsed": true
   },
   "outputs": [],
   "source": [
    "S[:6, :6] = np.diag(s)"
   ]
  },
  {
   "cell_type": "code",
   "execution_count": null,
   "metadata": {
    "collapsed": false
   },
   "outputs": [],
   "source": [
    "np.allclose(a, np.dot(U, np.dot(S, V)))"
   ]
  },
  {
   "cell_type": "code",
   "execution_count": null,
   "metadata": {
    "collapsed": false
   },
   "outputs": [],
   "source": [
    "U, s, V = np.linalg.svd(mat, full_matrices=True)"
   ]
  },
  {
   "cell_type": "code",
   "execution_count": null,
   "metadata": {
    "collapsed": true
   },
   "outputs": [],
   "source": [
    "import numpy, scipy.sparse"
   ]
  },
  {
   "cell_type": "code",
   "execution_count": null,
   "metadata": {
    "collapsed": true
   },
   "outputs": [],
   "source": [
    "from sparsesvd import sparsesvd"
   ]
  },
  {
   "cell_type": "code",
   "execution_count": null,
   "metadata": {
    "collapsed": true
   },
   "outputs": [],
   "source": [
    "mat = numpy.random.rand(200, 100)"
   ]
  },
  {
   "cell_type": "code",
   "execution_count": null,
   "metadata": {
    "collapsed": false
   },
   "outputs": [],
   "source": [
    "type(mat)"
   ]
  },
  {
   "cell_type": "code",
   "execution_count": null,
   "metadata": {
    "collapsed": false
   },
   "outputs": [],
   "source": [
    "mat.shape"
   ]
  },
  {
   "cell_type": "code",
   "execution_count": null,
   "metadata": {
    "collapsed": false
   },
   "outputs": [],
   "source": [
    "smat = scipy.sparse.csc_matrix(samMat)"
   ]
  },
  {
   "cell_type": "code",
   "execution_count": null,
   "metadata": {
    "collapsed": false
   },
   "outputs": [],
   "source": [
    "type(smat)"
   ]
  },
  {
   "cell_type": "code",
   "execution_count": null,
   "metadata": {
    "collapsed": true
   },
   "outputs": [],
   "source": [
    "ut, s, vt = sparsesvd(smat, 100) # do SVD, asking for 100 factors"
   ]
  },
  {
   "cell_type": "code",
   "execution_count": null,
   "metadata": {
    "collapsed": true
   },
   "outputs": [],
   "source": [
    "assert numpy.allclose(mat, numpy.dot(ut.T, numpy.dot(numpy.diag(s), vt)))"
   ]
  },
  {
   "cell_type": "code",
   "execution_count": null,
   "metadata": {
    "collapsed": false
   },
   "outputs": [],
   "source": [
    "# import genism\n",
    "from gensim import corpora, models, similarities"
   ]
  },
  {
   "cell_type": "code",
   "execution_count": 47,
   "metadata": {
    "collapsed": true
   },
   "outputs": [],
   "source": [
    "# http://stackoverflow.com/questions/33428589/pyspark-and-pca-how-can-i-extract-the-eigenvectors-of-this-pca-how-can-i-calcu/33500704#33500704\n",
    "from pyspark.mllib.common import callMLlibFunc, JavaModelWrapper\n",
    "from pyspark.mllib.linalg.distributed import RowMatrix"
   ]
  },
  {
   "cell_type": "code",
   "execution_count": 48,
   "metadata": {
    "collapsed": false
   },
   "outputs": [],
   "source": [
    "class SVD(JavaModelWrapper):\n",
    "    \"\"\"Wrapper around the SVD scala case class\"\"\"\n",
    "    @property\n",
    "    def U(self):\n",
    "        \"\"\" Returns a RowMatrix whose columns are the left singular vectors of the SVD if computeU was set to be True.\"\"\"\n",
    "        u = self.call(\"U\")\n",
    "        if u is not None:\n",
    "            return RowMatrix(u)\n",
    "\n",
    "    @property\n",
    "    def s(self):\n",
    "        \"\"\"Returns a DenseVector with singular values in descending order.\"\"\"\n",
    "        return self.call(\"s\")\n",
    "\n",
    "    @property\n",
    "    def V(self):\n",
    "        \"\"\" Returns a DenseMatrix whose columns are the right singular vectors of the SVD.\"\"\"\n",
    "        return self.call(\"V\")"
   ]
  },
  {
   "cell_type": "code",
   "execution_count": 49,
   "metadata": {
    "collapsed": true
   },
   "outputs": [],
   "source": [
    "def computeSVD(row_matrix, k, computeU=False, rCond=1e-9):\n",
    "    \"\"\"\n",
    "    Computes the singular value decomposition of the RowMatrix.\n",
    "    The given row matrix A of dimension (m X n) is decomposed into U * s * V'T where\n",
    "    * s: DenseVector consisting of square root of the eigenvalues (singular values) in descending order.\n",
    "    * U: (m X k) (left singular vectors) is a RowMatrix whose columns are the eigenvectors of (A X A')\n",
    "    * v: (n X k) (right singular vectors) is a Matrix whose columns are the eigenvectors of (A' X A)\n",
    "    :param k: number of singular values to keep. We might return less than k if there are numerically zero singular values.\n",
    "    :param computeU: Whether of not to compute U. If set to be True, then U is computed by A * V * sigma^-1\n",
    "    :param rCond: the reciprocal condition number. All singular values smaller than rCond * sigma(0) are treated as zero, where sigma(0) is the largest singular value.\n",
    "    :returns: SVD object\n",
    "    \"\"\"\n",
    "    java_model = row_matrix._java_matrix_wrapper.call(\"computeSVD\", int(k), computeU, float(rCond))\n",
    "    return SVD(java_model)"
   ]
  },
  {
   "cell_type": "code",
   "execution_count": 50,
   "metadata": {
    "collapsed": true
   },
   "outputs": [],
   "source": [
    "from pyspark.ml.feature import *\n",
    "from pyspark.mllib.linalg import Vectors"
   ]
  },
  {
   "cell_type": "code",
   "execution_count": 51,
   "metadata": {
    "collapsed": false
   },
   "outputs": [],
   "source": [
    "data = [(Vectors.dense([0.0, 1.0, 0.0, 7.0, 0.0]),), (Vectors.dense([2.0, 0.0, 3.0, 4.0, 5.0]),), (Vectors.dense([4.0, 0.0, 0.0, 6.0, 7.0]),)]\n",
    "# df = sqlContext.createDataFrame(data,[\"features\"])"
   ]
  },
  {
   "cell_type": "code",
   "execution_count": 391,
   "metadata": {
    "collapsed": true
   },
   "outputs": [],
   "source": [
    "svd = computeSVD(mat,50,True)"
   ]
  },
  {
   "cell_type": "code",
   "execution_count": 53,
   "metadata": {
    "collapsed": true
   },
   "outputs": [],
   "source": [
    "U = svd.U"
   ]
  },
  {
   "cell_type": "code",
   "execution_count": 249,
   "metadata": {
    "collapsed": false
   },
   "outputs": [],
   "source": [
    "docSpaceRDD = U.rows.map(lambda x: x.toArray()[0]).zipWithUniqueId().sortByKey(False).take(5)"
   ]
  },
  {
   "cell_type": "code",
   "execution_count": 250,
   "metadata": {
    "collapsed": false
   },
   "outputs": [
    {
     "data": {
      "text/plain": [
       "list"
      ]
     },
     "execution_count": 250,
     "metadata": {},
     "output_type": "execute_result"
    }
   ],
   "source": [
    "type(docSpaceRDD)"
   ]
  },
  {
   "cell_type": "code",
   "execution_count": 251,
   "metadata": {
    "collapsed": false
   },
   "outputs": [],
   "source": [
    "docSpace = docSpaceRDD#.collect()"
   ]
  },
  {
   "cell_type": "code",
   "execution_count": 252,
   "metadata": {
    "collapsed": false
   },
   "outputs": [
    {
     "data": {
      "text/plain": [
       "list"
      ]
     },
     "execution_count": 252,
     "metadata": {},
     "output_type": "execute_result"
    }
   ],
   "source": [
    "type(docSpace)"
   ]
  },
  {
   "cell_type": "code",
   "execution_count": 256,
   "metadata": {
    "collapsed": false
   },
   "outputs": [
    {
     "data": {
      "text/plain": [
       "[(0.011675202029950515, 19666),\n",
       " (0.011675202029950515, 20066),\n",
       " (0.011675202029950515, 20466),\n",
       " (0.011675202029950515, 20866),\n",
       " (0.011675202029950515, 21266)]"
      ]
     },
     "execution_count": 256,
     "metadata": {},
     "output_type": "execute_result"
    }
   ],
   "source": [
    "docSpaceRDD#.count()"
   ]
  },
  {
   "cell_type": "code",
   "execution_count": 257,
   "metadata": {
    "collapsed": false
   },
   "outputs": [
    {
     "data": {
      "text/plain": [
       "tuple"
      ]
     },
     "execution_count": 257,
     "metadata": {},
     "output_type": "execute_result"
    }
   ],
   "source": [
    "type(docSpace[0])"
   ]
  },
  {
   "cell_type": "code",
   "execution_count": 258,
   "metadata": {
    "collapsed": false
   },
   "outputs": [
    {
     "data": {
      "text/plain": [
       "(0.011675202029950515, 19666)"
      ]
     },
     "execution_count": 258,
     "metadata": {},
     "output_type": "execute_result"
    }
   ],
   "source": [
    "docSpace[0]"
   ]
  },
  {
   "cell_type": "code",
   "execution_count": 190,
   "metadata": {
    "collapsed": false
   },
   "outputs": [
    {
     "data": {
      "text/plain": [
       "(30,)"
      ]
     },
     "execution_count": 190,
     "metadata": {},
     "output_type": "execute_result"
    }
   ],
   "source": [
    "docSpace[0].shape"
   ]
  },
  {
   "cell_type": "code",
   "execution_count": 54,
   "metadata": {
    "collapsed": false
   },
   "outputs": [
    {
     "data": {
      "text/plain": [
       "pyspark.mllib.linalg.distributed.RowMatrix"
      ]
     },
     "execution_count": 54,
     "metadata": {},
     "output_type": "execute_result"
    }
   ],
   "source": [
    "type(U)"
   ]
  },
  {
   "cell_type": "code",
   "execution_count": 55,
   "metadata": {
    "collapsed": true
   },
   "outputs": [],
   "source": [
    "V = svd.V"
   ]
  },
  {
   "cell_type": "code",
   "execution_count": 56,
   "metadata": {
    "collapsed": false
   },
   "outputs": [
    {
     "data": {
      "text/plain": [
       "pyspark.mllib.linalg.DenseMatrix"
      ]
     },
     "execution_count": 56,
     "metadata": {},
     "output_type": "execute_result"
    }
   ],
   "source": [
    "type(V)"
   ]
  },
  {
   "cell_type": "code",
   "execution_count": 109,
   "metadata": {
    "collapsed": false
   },
   "outputs": [
    {
     "data": {
      "text/plain": [
       "numpy.ndarray"
      ]
     },
     "execution_count": 109,
     "metadata": {},
     "output_type": "execute_result"
    }
   ],
   "source": [
    "varr = V.toArray()\n",
    "type(varr)"
   ]
  },
  {
   "cell_type": "code",
   "execution_count": 58,
   "metadata": {
    "collapsed": false
   },
   "outputs": [
    {
     "data": {
      "text/plain": [
       "9834"
      ]
     },
     "execution_count": 58,
     "metadata": {},
     "output_type": "execute_result"
    }
   ],
   "source": [
    "V.numRows"
   ]
  },
  {
   "cell_type": "code",
   "execution_count": 122,
   "metadata": {
    "collapsed": false
   },
   "outputs": [
    {
     "data": {
      "text/plain": [
       "(9834, 30)"
      ]
     },
     "execution_count": 122,
     "metadata": {},
     "output_type": "execute_result"
    }
   ],
   "source": [
    "varr.shape"
   ]
  },
  {
   "cell_type": "code",
   "execution_count": 392,
   "metadata": {
    "collapsed": true
   },
   "outputs": [],
   "source": [
    "sigma = svd.s"
   ]
  },
  {
   "cell_type": "code",
   "execution_count": 394,
   "metadata": {
    "collapsed": false
   },
   "outputs": [
    {
     "data": {
      "text/plain": [
       "pyspark.mllib.linalg.DenseVector"
      ]
     },
     "execution_count": 394,
     "metadata": {},
     "output_type": "execute_result"
    }
   ],
   "source": [
    "type(sigma)"
   ]
  },
  {
   "cell_type": "code",
   "execution_count": 396,
   "metadata": {
    "collapsed": false
   },
   "outputs": [
    {
     "name": "stdout",
     "output_type": "stream",
     "text": [
      "[261.340500239,157.326732017,136.585630796,121.555643588,120.213496074,116.853580174,116.185708358,114.679599252,111.598589588,110.232222097,109.363381113,107.785967392,107.209801091,106.356741268,105.83567632,105.551323328,104.611021707,103.9403295,103.289137349,102.648107231,101.871406226,101.674952761,101.120055175,100.336426178,99.4333697057,99.4116321977,98.0105621693,97.2515265761,97.0227908872,96.1518359425,95.2370686149,94.769299889,94.3132279738,93.9117809243,93.7660770179,93.0761924747,92.9399314862,92.8877861445,92.4373044964,91.5851268371,91.2248936108,91.1032914517,90.8540933563,90.5573786134,89.8336032841,89.3770882916,88.9140152543,88.7131803327,88.1446604906,88.0218273959]\n"
     ]
    }
   ],
   "source": [
    "print sigma"
   ]
  },
  {
   "cell_type": "code",
   "execution_count": 201,
   "metadata": {
    "collapsed": false
   },
   "outputs": [],
   "source": [
    "#   def topTermsInTopConcepts(svd: SingularValueDecomposition[RowMatrix, Matrix], numConcepts: Int,\n",
    "#       numTerms: Int, termIds: Map[Int, String]): Seq[Seq[(String, Double)]] = {\n",
    "#     val v: Matrix = svd.V /* Matrix representing term space*/\n",
    "#     val topTerms: ArrayBuffer[Seq[(String, Double)]] = new ArrayBuffer[Seq[(String, Double)]]()\n",
    "#     val arr: Array[Double] = v.toArray\n",
    "#     for (i <- 0 until numConcepts) {\n",
    "#       val offs: Int = i * v.numRows\n",
    "#       val termWeights: Array[(Double, Int)] = arr.slice(offs, offs + v.numRows).zipWithIndex /* Picking each column of the matrix 'v'*/\n",
    "#       val sorted: Array[(Double, Int)] = termWeights.sortBy(-_._1)\n",
    "#       topTerms += sorted.take(numTerms).map{case (score, id) => (termIds(id), score)} /* Associating scores with\n",
    "#       corresponding terms using termIds*/\n",
    "#     }\n",
    "#     topTerms\n",
    "#   }\n",
    "# /* FUNCTION TO COMPUTE TOP TERMS IN TOP CONCEPTS*/\n",
    "def topTermsInTopConcepts(svd,numConcepts,numTerms,termIds):\n",
    "    v = svd.V #Matrix representing term space\n",
    "    topTerms = []\n",
    "    arr = v.toArray()\n",
    "    rows = v.numRows\n",
    "    for i in xrange(numConcepts):\n",
    "        termWeights = arr[:,i]#.zipWithIndex()\n",
    "        termList = list(enumerate(termWeights))\n",
    "        sortedArr = sorted(termList,key=lambda x: x[1])\n",
    "        topTerms.append(map(lambda x: (termIds[x[0]],x[1]),sortedArr[:numTerms]))              \n",
    "    return topTerms"
   ]
  },
  {
   "cell_type": "code",
   "execution_count": 387,
   "metadata": {
    "collapsed": false
   },
   "outputs": [],
   "source": [
    "def findVidId(item):\n",
    "    docID = \"\"\n",
    "    idd = item[1]\n",
    "    if docIds.has_key(idd):\n",
    "        docID = docIds[idd]\n",
    "    else:\n",
    "        docID = None\n",
    "    return (docID,item[0])\n",
    "        \n",
    "def topDocsInTopConcepts(svd,numConcepts,numDocs,docIds):\n",
    "    u = svd.U\n",
    "    topDocs = []\n",
    "    for i in xrange(numConcepts):\n",
    "        docWeights =u.rows.map(lambda x: x.toArray()[i]).zipWithUniqueId().sortByKey().take(numDocs)\n",
    "        topDocs.append(map(findVidId,docWeights))\n",
    "    return topDocs\n",
    "# import scala.collection.mutable.ArrayBuffer\n",
    "\n",
    "#   /* FUNCTION TO COMPUTE TOP DOCUMENTS IN TOP CONCEPTS*/\n",
    "#   def topDocsInTopConcepts(svd: SingularValueDecomposition[RowMatrix, Matrix], numConcepts: Int,\n",
    "#       numDocs: Int, docIds: Map[Long, String]): Seq[Seq[(String, Double)]] = {\n",
    "#     val u: RowMatrix = svd.U /* Matrix representing document space*/\n",
    "#     val topDocs: ArrayBuffer[Seq[(String, Double)]] = new ArrayBuffer[Seq[(String, Double)]]()\n",
    "#     for (i <- 0 until numConcepts) {\n",
    "#       val docWeights: RDD[(Double, Long)] = u.rows.map(_.toArray(i)).zipWithUniqueId  /* Picking each row of the row matrix 'u'*/\n",
    "#       topDocs += docWeights.top(numDocs).map{case (score, id) => \n",
    "#                                              var docID = \"\"\n",
    "#                                              try{\n",
    "#                                                docID = docIds(id)\n",
    "#                                              }\n",
    "#                                              catch {\n",
    "#                                                case ex: Exception => log.error(\"Doc ID does not Exist\", ex)\n",
    "#                                                docID = \"\"\n",
    "#                                              }  \n",
    "#                                              (docID, score)} /* Associating scores with\n",
    "#       corresponding documents using docIds */\n",
    "#     }\n",
    "#     topDocs\n",
    "#   }"
   ]
  },
  {
   "cell_type": "code",
   "execution_count": 397,
   "metadata": {
    "collapsed": false
   },
   "outputs": [],
   "source": [
    "#/* Extracts top terms from top most concepts */\n",
    "topConceptTerms = topTermsInTopConcepts(svd, 10, 15, termsIds)\n",
    "#/* Extracts top documents from top most concepts */\n",
    "topConceptDocs = topDocsInTopConcepts(svd, 10, 5, docIds)"
   ]
  },
  {
   "cell_type": "code",
   "execution_count": 398,
   "metadata": {
    "collapsed": false
   },
   "outputs": [],
   "source": [
    "def zipper(x,y):\n",
    "    k = list(str(a[0]) for a in x)\n",
    "    v = list(str(a[0]) for a in y)\n",
    "    return (k,v)\n",
    "concepts = map(zipper,topConceptTerms, topConceptDocs)"
   ]
  },
  {
   "cell_type": "code",
   "execution_count": 399,
   "metadata": {
    "collapsed": false
   },
   "outputs": [
    {
     "name": "stdout",
     "output_type": "stream",
     "text": [
      "Concept Terms:\n",
      "['keine', 'chine', 'ctor', 'dimanche', 'vivir', 'silvia', 'dias', 'valdemar', 'mouvement', 'mecque', 'riple', 'pasar', 'affaires', 'cuatro', 'hannover']\n",
      "Concepts Documents:\n",
      "['0_wk9npl5r', '0_ukz1vlp4', '0_6i176iou', '0_pr2pnxqt', '0_2maow7f5']\n",
      "Koehler surprises Fernandez after win,Tom Koehler interrupted Jose Fernandez with some ice.,\n",
      "Pat Maroon postgame (9/25),Pat Maroon postgame (9/25),\n",
      "Pereira: Hit on Ben Roethlisberger was a foul,Pereira: Hit on Ben Roethlisberger was a foul,\n",
      "\"Pollock on pitcher's duel between Erlin, Hellickson\",\"Pollock on pitcher's duel between Erlin, Hellickson\",\n",
      "\"XTRA3: Filmszene - Wolkig mit Aussicht auf Fleischbällchen, Spaghetti-Tornado\",Eine weitere lustige Filmszene - Wolkig mit Aussicht auf Fleischbällchen. Der Spaghetti-Tornado!,\"filmtrailerde, xtra3, filmszene, wolkig, mit, aussicht, auf, fleischbällchen, spaghetti-tornado, familienfilm, komödie, trickfilm\"\n",
      "\n",
      "Concept Terms:\n",
      "['newsy', 'year', 'obama', 'what', 'says', 'dead', 'home', 'refugees', '2016', 'world', 'election', 'emmy', 'people', 'season', 'years']\n",
      "Concepts Documents:\n",
      "['0_umhjddd4', '0_g3y2itl4', '0_1k5bucis', '0_pcslhjbn', '0_0igpfc8s']\n",
      "Taylor Swift Wins Emmy Award!,\"Taylor Swift just keeps on winning! From being honored with Grammy Awards, Billboard Music Awards, and MTV Video Music Awards, you would think she’d have it all, but now she’s got a new achievement to add to her list. On Thursday, the Television Academy announced the early winners who have been awarded an Emmy and among them is Swifty herself. The 25-year-old performer can now make room for the coveted award on her personal hall of fame. Check out the video to find out which award Taylor Swift snagged.\",\"music, taylor swift, emmy awards, taylor swift emmy, taylor swift emmy award, taylor swift experience, swift emmy award, taylor swift music, taylor swift television, taylor swift concert, taylor swift show, emmy taylor swift, emmy award taylor swift\"\n",
      "Taylor Swift Wins Emmy Award!,\"Taylor Swift just keeps on winning! From being honored with Grammy Awards, Billboard Music Awards, and MTV Video Music Awards, you would think she’d have it all, but now she’s got a new achievement to add to her list. On Thursday, the Television Academy announced the early winners who have been awarded an Emmy and among them is Swifty herself. The 25-year-old performer can now make room for the coveted award on her personal hall of fame. Check out the video to find out which award Taylor Swift snagged.\",\"music, taylor swift, emmy awards, taylor swift emmy, taylor swift emmy award, taylor swift experience, swift emmy award, taylor swift music, taylor swift television, taylor swift concert, taylor swift show, emmy taylor swift, emmy award taylor swift\"\n",
      "Bristol Palin Criticizes Obama for White House Invitation,\"Cue the eye rolls please. Bristol Palin is criticizing President Obama for inviting Ahmed Mohamed, the 14 year old arrested for bringing a homemade clock to school to The White House. The failed Reality TV star posted a lengthy criticism saying Obama needs to stay out of matters like this. She goes on to say it encourages what is already going on with the “Black Lives Matter” crowd and encourages victimhood. And she lays blame on the President for dividing our country. Get more details about her post here.\",\"wire, bristol palin, president barack obama, ahmed mohamed, palin criticizes obama, bristol palin racist, palin slams obama, invitation to white house, ahmed mohamed clock, homemade clock, arrested, obama invites ahmed, white house, black lives matter\"\n",
      "Bristol Palin Criticizes Obama for White House Invitation,\"Cue the eye rolls please. Bristol Palin is criticizing President Obama for inviting Ahmed Mohamed, the 14 year old arrested for bringing a homemade clock to school to The White House. The failed Reality TV star posted a lengthy criticism saying Obama needs to stay out of matters like this. She goes on to say it encourages what is already going on with the “Black Lives Matter” crowd and encourages victimhood. And she lays blame on the President for dividing our country. Get more details about her post here.\",\"wire, bristol palin, president barack obama, ahmed mohamed, palin criticizes obama, bristol palin racist, palin slams obama, invitation to white house, ahmed mohamed clock, homemade clock, arrested, obama invites ahmed, white house, black lives matter\"\n",
      "Bristol Palin Criticizes Obama for White House Invitation,\"Cue the eye rolls please. Bristol Palin is criticizing President Obama for inviting Ahmed Mohamed, the 14 year old arrested for bringing a homemade clock to school to The White House. The failed Reality TV star posted a lengthy criticism saying Obama needs to stay out of matters like this. She goes on to say it encourages what is already going on with the “Black Lives Matter” crowd and encourages victimhood. And she lays blame on the President for dividing our country. Get more details about her post here.\",\"wire, bristol palin, president barack obama, ahmed mohamed, palin criticizes obama, bristol palin racist, palin slams obama, invitation to white house, ahmed mohamed clock, homemade clock, arrested, obama invites ahmed, white house, black lives matter\"\n",
      "\n",
      "Concept Terms:\n",
      "['recipe', 'season', 'cooking', 'world', 'video', 'series', 'dishes', 'chef', 'fashion', 'make', 'culinary', 'epicurious', 'cook', 'technique', 'around']\n",
      "Concepts Documents:\n",
      "['0_c3f3vacu', '0_znu3dc5w', '0_adcscyoi', '0_f31jk07k', '0_bt5q95bb']\n",
      "\"Around the World in 80 Dishes - How to Make Indian Masala Dosas, Part 2\",\"Epicurious' Around the World in 80 Dishes takes you to Southern India, with a demonstration of a recipe for Masala Dosas (curried potato wraps), prepared by Chef David Kamen of The Culinary Institute of America.\",\"indian cooking video, masala dosa recipe, south indian dosai recipe, masala dosas recipe, dosas recipe, urid dal, urad dhal, indian cooking, south indian cuisine, masala dosai recipe, masala dosai cooking video, dosa recipe, south indian recipe, south indian dosas recipe, indian dosa recipe, dosas cooking video, indian dosa cooking video, urid dhal, south indian dosa recipe, south indian dosai cooking video, indian, masala dosas cooking video, urad dal, indian dosai recipe, dish, dosa cooking video, indian dosas recipe, season: asia, series: around the world in 80 dishes\"\n",
      "\"Around the World in 80 Dishes - How to Make Indian Masala Dosas, Part 1\",\"Epicurious' Around the World in 80 Dishes takes you to Southern India, with a demonstration of a recipe for Masala Dosas (curried potato wraps), prepared by Chef David Kamen of The Culinary Institute of America.\",\"indian cooking video, masala dosa recipe, south indian dosai recipe, masala dosas recipe, dosas recipe, urid dal, urad dhal, indian cooking, south indian cuisine, masala dosai recipe, masala dosai cooking video, dosa recipe, south indian recipe, south indian dosas recipe, indian dosa recipe, dosas cooking video, indian dosa cooking video, urid dhal, south indian dosa recipe, south indian dosai cooking video, indian, masala dosas cooking video, urad dal, indian dosai recipe, dish, dosa cooking video, indian dosas recipe, season: asia, series: around the world in 80 dishes\"\n",
      "\"Around the World in 80 Dishes - How to Make Filipino Lumpia, Part 3\",Epicurious' Around the World in 80 Dishes takes you to the Philippines with a demonstration of a recipe for Lumpia (spring rolls) prepared by Chef Michael Pardus of The Culinary Institute of America.,\"filipino cuisine, filipino fresh lumpia recipe, sariwa cooking video, lumpia cooking video, filipino sariwa recipe, filipino cooking, filipino sariwa cooking video, filipino lumpia recipe, fresh lumpia cooking video, filipino fresh lumpia cooking video, lumpiang sariwa recipe, filipino recipes, philippines lumpia recipe, philippines cooking, lumpiang sariwa cooking video, sariwa recipe, filipino recipe, filipino spring rolls cooking video, fresh lumpia recipe, season: asia, series: around the world in 80 dishes\"\n",
      "\"Around the World in 80 Dishes - How to Make Filipino Lumpia, Part 2\",Epicurious' Around the World in 80 Dishes takes you to the Philippines with a demonstration of a recipe for Lumpia (spring rolls) prepared by Chef Michael Pardus of The Culinary Institute of America.,\"filipino cuisine, filipino fresh lumpia recipe, sariwa cooking video, lumpia cooking video, filipino sariwa recipe, filipino cooking, filipino sariwa cooking video, filipino lumpia recipe, fresh lumpia cooking video, filipino fresh lumpia cooking video, lumpiang sariwa recipe, filipino recipes, philippines lumpia recipe, philippines cooking, lumpiang sariwa cooking video, sariwa recipe, filipino recipe, filipino spring rolls cooking video, fresh lumpia recipe, season: asia, series: around the world in 80 dishes\"\n",
      "\"Around the World in 80 Dishes - How to Make Filipino Lumpia, Part 1\",Epicurious' Around the World in 80 Dishes takes you to the Philippines with a demonstration of a recipe for Lumpia (spring rolls) prepared by Chef Michael Pardus of The Culinary Institute of America.,\"filipino cuisine, filipino fresh lumpia recipe, sariwa cooking video, lumpia cooking video, filipino sariwa recipe, filipino cooking, filipino sariwa cooking video, filipino lumpia recipe, fresh lumpia cooking video, filipino fresh lumpia cooking video, lumpiang sariwa recipe, filipino recipes, philippines lumpia recipe, philippines cooking, lumpiang sariwa cooking video, sariwa recipe, filipino recipe, filipino spring rolls cooking video, fresh lumpia recipe, season: asia, series: around the world in 80 dishes\"\n",
      "\n",
      "Concept Terms:\n",
      "['fashion', '2016', 'election', 'week', 'issues', 'york', 'major', 'presidential', 'care', 'jenner', 'appeal', 'season', 'spring', 'health', 'trump']\n",
      "Concepts Documents:\n",
      "['0_2m00zdqm', '0_2umw3t4n', '0_szs8ua15', '0_72fjrxo8', '0_6b6c44i3']\n",
      "Vogue Fashion Week - Burberry Prorsum Spring 2016 Ready-to-Wear,\"Runway, backstage, and front row footage from the London show. Watch the Burberry Prorsum Spring 2016 ready-to-wear fashion show from Vogue.com. Want more? Visit Vogue.com for more runway shows, fashion trends, shopping guides, and news about models and designers.\",\"vogue, vogue magazine, fashion, beauty, runway shows, fashion week, london, london fashion week, lfw, spring 2016, rtw, ready-to-wear, spring 2016 rtw, spring 2016 ready-to-wear, model, backstage, runway, designers, burberry, burberry prorsum, burberry spring 2016, burberry prorsum spring 2016, christopher bailey, season: 2016, series: vogue fashion week\"\n",
      "Vogue Fashion Week - Gucci Spring 2016 Ready-to-Wear,\"Runway, backstage, and front row footage from the Milan show. Watch the Gucci Spring 2016 ready-to-wear fashion show from Vogue.com. Want more? Visit Vogue.com for more runway shows, fashion trends, shopping guides, and news about models and designers.\",\"vogue, vogue magazine, fashion, runway shows, fashion week, milan, milan fashion week, gucci, spring 2016, gucci spring 2016, designers, runway, alessandro michele, backstage, fashion week backstage, behind the scenes, fashion week behind the scenes, season: 2016, series: vogue fashion week\"\n",
      "Vogue Fashion Week - Christopher Kane Spring 2016 Ready-to-Wear,\"Runway, backstage, and front row footage from the London show. Watch the Christopher Kane Spring 2016 ready-to-wear fashion show from Vogue.com. Want more? Visit Vogue.com for more runway shows, fashion trends, shopping guides, and news about models and designers.\",\"vogue, vogue magazine, fashion, beauty, runway shows, fashion week, new york, london fashion week, lfw, spring 2016, rtw, ready-to-wear, spring 2016 rtw, spring 2016 ready-to-wear, model, backstage, runway, designers, london, christopher kane, christopher kane spring 2016, season: 2016, series: vogue fashion week\"\n",
      "Vogue Fashion Week - Prada Spring 2016 Ready-to-Wear,\"Runway, backstage, and front row footage from the Milan show. Watch the Prada Spring 2016 ready-to-wear fashion show from Vogue.com. Want more? Visit Vogue.com for more runway shows, fashion trends, shopping guides, and news about models and designers.\",\"vogue, vogue magazine, fashion, beauty, runway shows, fashion week, milan, milan fashion week, mfw, spring 2016, rtw, ready-to-wear, spring 2016 rtw, spring 2016 ready-to-wear, model, backstage, runway, miuccia prada, prada, prada spring 2016, season: 2016, series: vogue fashion week\"\n",
      "Vogue Fashion Week - Moschino Spring 2016 Ready-to-Wear,\"Runway, backstage, and front row footage from the Milan show. Watch the Moschino Spring 2016 ready-to-wear fashion show from Vogue.com. Want more? Visit Vogue.com for more runway shows, fashion trends, shopping guides, and news about models and designers.\",\"vogue, vogue magazine, fashion, beauty, runway shows, fashion week, milan, moschino, moschino spring 2016 ready-to-wear, spring 2016 ready-to-wear, milan fashion week, mfw, spring 2016 rtw, rtw, ready-to-wear, jeremy scott, season: 2016, series: vogue fashion week\"\n",
      "\n",
      "Concept Terms:\n",
      "['apple', 'fashion', '2016', 'election', 'week', 'issues', 'york', 'ipad', 'major', 'care', 'appeal', 'jenner', 'season', 'presidential', 'spring']\n",
      "Concepts Documents:\n",
      "['0_2m00zdqm', '0_2umw3t4n', '0_szs8ua15', '0_72fjrxo8', '0_6b6c44i3']\n",
      "Vogue Fashion Week - Burberry Prorsum Spring 2016 Ready-to-Wear,\"Runway, backstage, and front row footage from the London show. Watch the Burberry Prorsum Spring 2016 ready-to-wear fashion show from Vogue.com. Want more? Visit Vogue.com for more runway shows, fashion trends, shopping guides, and news about models and designers.\",\"vogue, vogue magazine, fashion, beauty, runway shows, fashion week, london, london fashion week, lfw, spring 2016, rtw, ready-to-wear, spring 2016 rtw, spring 2016 ready-to-wear, model, backstage, runway, designers, burberry, burberry prorsum, burberry spring 2016, burberry prorsum spring 2016, christopher bailey, season: 2016, series: vogue fashion week\"\n",
      "Vogue Fashion Week - Gucci Spring 2016 Ready-to-Wear,\"Runway, backstage, and front row footage from the Milan show. Watch the Gucci Spring 2016 ready-to-wear fashion show from Vogue.com. Want more? Visit Vogue.com for more runway shows, fashion trends, shopping guides, and news about models and designers.\",\"vogue, vogue magazine, fashion, runway shows, fashion week, milan, milan fashion week, gucci, spring 2016, gucci spring 2016, designers, runway, alessandro michele, backstage, fashion week backstage, behind the scenes, fashion week behind the scenes, season: 2016, series: vogue fashion week\"\n",
      "Vogue Fashion Week - Christopher Kane Spring 2016 Ready-to-Wear,\"Runway, backstage, and front row footage from the London show. Watch the Christopher Kane Spring 2016 ready-to-wear fashion show from Vogue.com. Want more? Visit Vogue.com for more runway shows, fashion trends, shopping guides, and news about models and designers.\",\"vogue, vogue magazine, fashion, beauty, runway shows, fashion week, new york, london fashion week, lfw, spring 2016, rtw, ready-to-wear, spring 2016 rtw, spring 2016 ready-to-wear, model, backstage, runway, designers, london, christopher kane, christopher kane spring 2016, season: 2016, series: vogue fashion week\"\n",
      "Vogue Fashion Week - Prada Spring 2016 Ready-to-Wear,\"Runway, backstage, and front row footage from the Milan show. Watch the Prada Spring 2016 ready-to-wear fashion show from Vogue.com. Want more? Visit Vogue.com for more runway shows, fashion trends, shopping guides, and news about models and designers.\",\"vogue, vogue magazine, fashion, beauty, runway shows, fashion week, milan, milan fashion week, mfw, spring 2016, rtw, ready-to-wear, spring 2016 rtw, spring 2016 ready-to-wear, model, backstage, runway, miuccia prada, prada, prada spring 2016, season: 2016, series: vogue fashion week\"\n",
      "Vogue Fashion Week - Moschino Spring 2016 Ready-to-Wear,\"Runway, backstage, and front row footage from the Milan show. Watch the Moschino Spring 2016 ready-to-wear fashion show from Vogue.com. Want more? Visit Vogue.com for more runway shows, fashion trends, shopping guides, and news about models and designers.\",\"vogue, vogue magazine, fashion, beauty, runway shows, fashion week, milan, moschino, moschino spring 2016 ready-to-wear, spring 2016 ready-to-wear, milan fashion week, mfw, spring 2016 rtw, rtw, ready-to-wear, jeremy scott, season: 2016, series: vogue fashion week\"\n",
      "\n",
      "Concept Terms:\n",
      "['trump', 'election', '2016', 'issues', 'presidential', 'donald', 'care', 'debate', 'that', 'obama', 'recipe', 'apple', 'health', 'world', 'money']\n",
      "Concepts Documents:\n",
      "['0_c2hjrne1', '0_be6e2ebr', '0_4k0gpi8o', '0_nz84d61j', '0_95lvy86m']\n",
      "Donald Trump Sues For Rape Allegations?,\"Presidential candidate Donald Trump’s made his way to the top of the Republican polls, but now he may be having a minor setback. The Daily Beast is reporting the business mogul allegedly sexually assaulted his former wife Ivana Trump back in 1989. The allegation stems from the 1993 biography “Lost Tycoon: the many lives of Donald J. Trump,” which details the violent deposition from the couples divorce case. Trumps lawyers quickly fired back arguing that you cannot rape your spouse. And now the Hollywood reporters saying they are threatening the Daily Beast with a 500 million dollars lawsuit for printing the story. We will keep you posted on the developing story!\",\"wire, donald trump, ivana trump, trump rape allegations, donald trump sues, trump raped his spouse, ivana sexually assaulted, donald trumps lawyer, lost tycoon, ivana biography, donald for president, donald trump set back, donald trump assaulted ex, trump\"\n",
      "Heidi Klum Isn't Laughing at Trump,\"Remember that time Donald Trump said Heidi Klum was no longer a ten? Yeah, we still can't believe it either. And we thought Heidi's video in response to Trump was amazing. She laughed off The Donald's insult in the quick rebuttal of a man with a Trump mask taking her 10 and replacing it with a 9.9 to show how ridiculous it was, but the supermodel really doesn't think it's funny at all. Find out why Heidi thinks putting a number on women isn't a laughing matter and why every woman in her book is a 10.\",\"style, heidi klum, donald trump, heidi klum 10, heidi klum not a 10, donald trump slams klum, donald trump heidi klum, heidi klum slams trump, heidi klum defends women, perfect 10, donald trump feud, donald trump women, donald trump misogyny, feminism\"\n",
      "DJ Buys Trademark for Trump Slogan,\"One DJ is taking Donald Trump’s entrepreneurial call to action to heart. iHeartRadio DJ Bobby Estell tried to snag up a hat with Trump’s slogan, \"\"Make America Great Again,\"\" but they were all sold out. Bobby not only decided to make his own, but register the trademark for the slogan! Bobby’s lawyer says he does have a price. Find out what it will take for Trump to buy the trademark back from him!\",\"wire, donald trump, bobby estell, make america great again, trump campaign, trump slogan, trump trademark, iheartradio dj, iheartradio, dj bobby estell, buys trademark, saint judes, bobby estell trademark, trump campaign slogan, trump donation, trump\"\n",
      "DJ Buys Trademark for Trump Slogan,\"One DJ is taking Donald Trump’s entrepreneurial call to action to heart. iHeartRadio DJ Bobby Estell tried to snag up a hat with Trump’s slogan, \"\"Make America Great Again,\"\" but they were all sold out. Bobby not only decided to make his own, but register the trademark for the slogan! Bobby’s lawyer says he does have a price. Find out what it will take for Trump to buy the trademark back from him!\",\"wire, donald trump, bobby estell, make america great again, trump campaign, trump slogan, trump trademark, iheartradio dj, iheartradio, dj bobby estell, buys trademark, saint judes, bobby estell trademark, trump campaign slogan, trump donation, trump\"\n",
      "Donald Trump is Getting Another Grandchild,\"Ivanka Trump just made a super huge announcement! Trump and her husband, Kushner Companies CEO Jared Kushner have baby #3 on the way! Trump announced on her Facebook page and shared a video and picture with the help from her two little ones to announce that she’s expecting. Arabella 4, held up a number one. Joseph 23 months, held up number two and mama held number 3 in front of her belly. Just what the world need's more Trumps.\",\"mom, ivanka trump, ivanka trump expecting, ivanka trump baby 3, ivanka trump baby bump, celebrity baby, celebrity baby bumps, expecting celebritys, donald trump, donald trump grandkids, donald trump's new grandkid, ivanka pregnant\"\n",
      "\n",
      "Concept Terms:\n",
      "['obama', 'refugees', 'election', '2016', 'administration', 'issues', 'syrian', 'border', 'says', 'iran', 'care', 'college', 'world', 'tells', 'accept']\n",
      "Concepts Documents:\n",
      "['0_1k5bucis', '0_pcslhjbn', '0_0igpfc8s', '0_6a9r475l', '0_9gwlkl5y']\n",
      "Bristol Palin Criticizes Obama for White House Invitation,\"Cue the eye rolls please. Bristol Palin is criticizing President Obama for inviting Ahmed Mohamed, the 14 year old arrested for bringing a homemade clock to school to The White House. The failed Reality TV star posted a lengthy criticism saying Obama needs to stay out of matters like this. She goes on to say it encourages what is already going on with the “Black Lives Matter” crowd and encourages victimhood. And she lays blame on the President for dividing our country. Get more details about her post here.\",\"wire, bristol palin, president barack obama, ahmed mohamed, palin criticizes obama, bristol palin racist, palin slams obama, invitation to white house, ahmed mohamed clock, homemade clock, arrested, obama invites ahmed, white house, black lives matter\"\n",
      "Bristol Palin Criticizes Obama for White House Invitation,\"Cue the eye rolls please. Bristol Palin is criticizing President Obama for inviting Ahmed Mohamed, the 14 year old arrested for bringing a homemade clock to school to The White House. The failed Reality TV star posted a lengthy criticism saying Obama needs to stay out of matters like this. She goes on to say it encourages what is already going on with the “Black Lives Matter” crowd and encourages victimhood. And she lays blame on the President for dividing our country. Get more details about her post here.\",\"wire, bristol palin, president barack obama, ahmed mohamed, palin criticizes obama, bristol palin racist, palin slams obama, invitation to white house, ahmed mohamed clock, homemade clock, arrested, obama invites ahmed, white house, black lives matter\"\n",
      "Bristol Palin Criticizes Obama for White House Invitation,\"Cue the eye rolls please. Bristol Palin is criticizing President Obama for inviting Ahmed Mohamed, the 14 year old arrested for bringing a homemade clock to school to The White House. The failed Reality TV star posted a lengthy criticism saying Obama needs to stay out of matters like this. She goes on to say it encourages what is already going on with the “Black Lives Matter” crowd and encourages victimhood. And she lays blame on the President for dividing our country. Get more details about her post here.\",\"wire, bristol palin, president barack obama, ahmed mohamed, palin criticizes obama, bristol palin racist, palin slams obama, invitation to white house, ahmed mohamed clock, homemade clock, arrested, obama invites ahmed, white house, black lives matter\"\n",
      "\"The Kids' \"\"State Dinner\"\" at the White House - Winners Prepare to Meet Michelle Obama at the White House\",The 2013 winners of the Epicurious Healthy Lunchtime Challenge are about to meet First Lady Michelle Obama at the Kids’ “State Dinner” at the White House...and they're just a little bit excited!,\"epicurious, epicurious.com, white house, kitchen, cooking, dish, barack obama, president, michelle obama, kids’ state dinner, first lady, president obama, healthy lunchtime challenge, winners, 2013, tanya steel, state dinner, season: the 2013 kids' \"\"state dinner\"\", series: the kids' \"\"state dinner\"\" at the white house\"\n",
      "What Rights Do Refugees Have?,\"Europe is faced with the worst refugee crisis since World War 2, forcing countries to change their policy. So what rights do refugees have?\",\"refugee, refugees in europe, refugee rights, syria, migrant crisis, middle east, north africa, economic migrants, asylum seekers, asylum, what rights do refugees have, what is asylum, migrant vs refugee, what is a migrant, what is a refugee, germany, welfare, refugee rights in europe, uk refugees, refugees in uk, persecution, un, rights, europe, world war 2, refugee crisis, syrian civil war, identity, testtube, test tube, news, italy, european refugee laws\"\n",
      "\n",
      "Concept Terms:\n",
      "['election', 'dead', 'recipe', 'issues', '2016', 'newsy', 'emmy', 'home', 'suicide', 'murder', 'government', 'care', 'cooking', 'presidential', 'latest']\n",
      "Concepts Documents:\n",
      "['0_c3f3vacu', '0_znu3dc5w', '0_hfj813f9', '0_iutcmrp8', '0_d7uw8iia']\n",
      "\"Around the World in 80 Dishes - How to Make Indian Masala Dosas, Part 2\",\"Epicurious' Around the World in 80 Dishes takes you to Southern India, with a demonstration of a recipe for Masala Dosas (curried potato wraps), prepared by Chef David Kamen of The Culinary Institute of America.\",\"indian cooking video, masala dosa recipe, south indian dosai recipe, masala dosas recipe, dosas recipe, urid dal, urad dhal, indian cooking, south indian cuisine, masala dosai recipe, masala dosai cooking video, dosa recipe, south indian recipe, south indian dosas recipe, indian dosa recipe, dosas cooking video, indian dosa cooking video, urid dhal, south indian dosa recipe, south indian dosai cooking video, indian, masala dosas cooking video, urad dal, indian dosai recipe, dish, dosa cooking video, indian dosas recipe, season: asia, series: around the world in 80 dishes\"\n",
      "\"Around the World in 80 Dishes - How to Make Indian Masala Dosas, Part 1\",\"Epicurious' Around the World in 80 Dishes takes you to Southern India, with a demonstration of a recipe for Masala Dosas (curried potato wraps), prepared by Chef David Kamen of The Culinary Institute of America.\",\"indian cooking video, masala dosa recipe, south indian dosai recipe, masala dosas recipe, dosas recipe, urid dal, urad dhal, indian cooking, south indian cuisine, masala dosai recipe, masala dosai cooking video, dosa recipe, south indian recipe, south indian dosas recipe, indian dosa recipe, dosas cooking video, indian dosa cooking video, urid dhal, south indian dosa recipe, south indian dosai cooking video, indian, masala dosas cooking video, urad dal, indian dosai recipe, dish, dosa cooking video, indian dosas recipe, season: asia, series: around the world in 80 dishes\"\n",
      "\"Around the World in 80 Dishes - How to Make Indian Saag Paneer, Part 1\",\"Epicurious's Around the World in 80 Dishes takes you to Northern India with a demonstration of an authentic recipe for Saag Paneer (Fried Cheese in Spinach Sauce), prepared by Chef David Kamen of The Culinary Institute of America.\",\"panir, indian spinach recipe, indian cuisine, how to make indian spinach, how to make panir, indian spinach, saag paneer, saag paneer video, indian cheese, how to make saag paneer, northern indian cuisine, paneer, spinach, northern indian recipe, indian recipe, chef david kamen, spinach recipe, how to make palak paneer, palak paneer recipe, palak paneer, panir recipe, indian spinach and cheese, recipe, dish, how to make paneer, indian, saag paneer recipe, paneer recipe, how to make indian cheese, season: asia, series: around the world in 80 dishes\"\n",
      "\"Around the World in 80 Dishes - How to Make Indian Saag Paneer, Part 2\",\"Epicurious's Around the World in 80 Dishes takes you to Northern India with a demonstration of an authentic recipe for Saag Paneer (Fried Cheese in Spinach Sauce), prepared by Chef David Kamen of The Culinary Institute of America.\",\"panir, indian spinach recipe, indian cuisine, how to make indian spinach, how to make panir, indian spinach, saag paneer, saag paneer video, indian cheese, how to make saag paneer, northern indian cuisine, paneer, spinach, northern indian recipe, indian recipe, chef david kamen, spinach recipe, how to make palak paneer, palak paneer recipe, palak paneer, panir recipe, indian spinach and cheese, recipe, dish, how to make paneer, indian, saag paneer recipe, paneer recipe, how to make indian cheese, season: asia, series: around the world in 80 dishes\"\n",
      "\"Around the World in 80 Dishes - How to Make Italian Pasta Bolognese, Part 2\",\"Epicurious's Around the World in 80 Dishes takes you to Emilia-Romagna, Italy, with a demonstration of a recipe for Pasta Bolognese (a hearty meat sauce with tomatoes and cream), prepared by Chef Joe DiPerri of The Culinary Institute of America.\",\"meat sauce, culinary, international cooking, pasta sauce, meal, how to make bolognese, cooking, technique, cuisine, menu, tanya steel, italian, bolognese sauce recipe, around the world in 80 dishes, recipe, how to make pasta bolognese, pasta bolognese recipe, mario batali, italian meat sauce, ragu, cooking demonstration, italian cooking video, dishes, cooking video, ethnic, meat sauce recipe, video, international, emilia-romagna, ethnic recipe, gourmet, dinner, italian recipe, bolognese recipe, cook, kitchen, season: europe, series: around the world in 80 dishes\"\n",
      "\n",
      "Concept Terms:\n",
      "['fashion', 'week', 'york', 'obama', 'trump', 'dead', 'swift', 'taylor', 'what', 'football', 'appeal', 'president', 'that', 'apple', 'spring']\n",
      "Concepts Documents:\n",
      "['0_7obpk1ta', '0_2s3zrjor', '0_4ayzj790', '0_673bvyrh', '0_2umw3t4n']\n",
      "Vogue Fashion Week - Karlie Kloss & Friends Raid the Vogue Closet for NYFW,\"Vogue is setting up shop at the YouTube Space NY for New York Fashion Week. Karlie Kloss offers to help prep for the takeover, but finds herself all alone at the deserted Vogue offices. See what happens when she enlists the help of Casey Neistat, Michael Kors, Joan Smalls, and more.\",\"vogue, vogue magazine, fashion, beauty, karlie kloss, klossy, new york fashion week, nyfw, anna wintour, youtube space ny, video, videos, makeup, beauty products, cameras, hats, video shoot, super models, supermodels, models, karlie kloss interview, karlie kloss walk, fashion week, new york fashion week 2015, karlie kloss height, karlie's kookies, taylor swift karlie kloss, taylor swift, bad blood video, casey neistat, doutzen kroes, michael kors, jourdan dunn, jason wu, joan smalls, christy turlington, spring summer 2016 collections, runway shows, paris, new york, milan, season: 2016, series: vogue fashion week\"\n",
      "NYFW Designer Slams Kanye West for Ruining Show,\"Kanye West is surprising everyone at New York Fashion Week with an impromptu show and one fashionista is livid! Streetwear designer Anne Bowen was forced to reschedule her Spring 2016 show due to Yeezus adding his show to the schedule at the exact same date and time as hers. After prepping for the big night for a year, Bowen says her team was scrambling to change the date, which is now three days after the original scheduled time. She slammed West’s show completely, calling it unethical.\",\"style, kanye west, kanye, kayne nyfw, kanye west fashion show, kanye surprise fashion show, anne bowen, kanye new york fashion week, new york fashion week, yeezus, yeezus fashion, yeezus fashion show, yeezy fashion show, kanye west style, kayne fashion\"\n",
      "NYFW Designer Slams Kanye West for Ruining Show,\"Kanye West is surprising everyone at New York Fashion Week with an impromptu show and one fashionista is livid! Streetwear designer Anne Bowen was forced to reschedule her Spring 2016 show due to Yeezus adding his show to the schedule at the exact same date and time as hers. After prepping for the big night for a year, Bowen says her team was scrambling to change the date, which is now three days after the original scheduled time. She slammed West’s show completely, calling it unethical.\",\"style, kanye west, kanye, kayne nyfw, kanye west fashion show, kanye surprise fashion show, anne bowen, kanye new york fashion week, new york fashion week, yeezus, yeezus fashion, yeezus fashion show, yeezy fashion show, kanye west style, kayne fashion\"\n",
      "NYFW Designer Slams Kanye West for Ruining Show,\"Kanye West is surprising everyone at New York Fashion Week with an impromptu show and one fashionista is livid! Streetwear designer Anne Bowen was forced to reschedule her Spring 2016 show due to Yeezus adding his show to the schedule at the exact same date and time as hers. After prepping for the big night for a year, Bowen says her team was scrambling to change the date, which is now three days after the original scheduled time. She slammed West’s show completely, calling it unethical.\",\"style, kanye west, kanye, kayne nyfw, kanye west fashion show, kanye surprise fashion show, anne bowen, kanye new york fashion week, new york fashion week, yeezus, yeezus fashion, yeezus fashion show, yeezy fashion show, kanye west style, kayne fashion\"\n",
      "Vogue Fashion Week - Gucci Spring 2016 Ready-to-Wear,\"Runway, backstage, and front row footage from the Milan show. Watch the Gucci Spring 2016 ready-to-wear fashion show from Vogue.com. Want more? Visit Vogue.com for more runway shows, fashion trends, shopping guides, and news about models and designers.\",\"vogue, vogue magazine, fashion, runway shows, fashion week, milan, milan fashion week, gucci, spring 2016, gucci spring 2016, designers, runway, alessandro michele, backstage, fashion week backstage, behind the scenes, fashion week behind the scenes, season: 2016, series: vogue fashion week\"\n",
      "\n",
      "Concept Terms:\n",
      "['swift', 'taylor', 'election', 'assault', 'over', 'fired', 'nicki', 'emmy', 'suing', 'station', 'false', 'issues', 'minaj', 'meet', 'grabbed']\n",
      "Concepts Documents:\n",
      "['0_umhjddd4', '0_g3y2itl4', '0_68ntp0y0', '0_oquvyxg2', '0_14ew8dfz']\n",
      "Taylor Swift Wins Emmy Award!,\"Taylor Swift just keeps on winning! From being honored with Grammy Awards, Billboard Music Awards, and MTV Video Music Awards, you would think she’d have it all, but now she’s got a new achievement to add to her list. On Thursday, the Television Academy announced the early winners who have been awarded an Emmy and among them is Swifty herself. The 25-year-old performer can now make room for the coveted award on her personal hall of fame. Check out the video to find out which award Taylor Swift snagged.\",\"music, taylor swift, emmy awards, taylor swift emmy, taylor swift emmy award, taylor swift experience, swift emmy award, taylor swift music, taylor swift television, taylor swift concert, taylor swift show, emmy taylor swift, emmy award taylor swift\"\n",
      "Taylor Swift Wins Emmy Award!,\"Taylor Swift just keeps on winning! From being honored with Grammy Awards, Billboard Music Awards, and MTV Video Music Awards, you would think she’d have it all, but now she’s got a new achievement to add to her list. On Thursday, the Television Academy announced the early winners who have been awarded an Emmy and among them is Swifty herself. The 25-year-old performer can now make room for the coveted award on her personal hall of fame. Check out the video to find out which award Taylor Swift snagged.\",\"music, taylor swift, emmy awards, taylor swift emmy, taylor swift emmy award, taylor swift experience, swift emmy award, taylor swift music, taylor swift television, taylor swift concert, taylor swift show, emmy taylor swift, emmy award taylor swift\"\n",
      "Taylor Swift Escapes Scary Fan Moment,\"Taylor swift proves the show must carry on, and she did just that when she escaped a pretty scary moment while on stage performing. A fan caught the scary moment from Tay Tay’s show, when an overzealous concert goer reached up and grabbed her leg while she was on stage during Bad Blood. We know her fans love her, but reaching up and grabbing her is a pretty big no-no. According to the Instagrammer who posted the incident security rushed in and took care of the situation rather quickly. And of course, Taylor did what we assumed she would, she carried on like a pro.\",\"music, taylor swift concert, taylor swift grabbed, taylor swift music, taylor swift tour, fan grabs taylor swift, taylor swift 1989, taylor swift in danger, taylor swift attacked, taylor swift scared, taylor swift scary fan, taylor swift fans, 1989 tour\"\n",
      "Taylor Swift Escapes Scary Fan Moment,\"Taylor swift proves the show must carry on, and she did just that when she escaped a pretty scary moment while on stage performing. A fan caught the scary moment from Tay Tay’s show, when an overzealous concert goer reached up and grabbed her leg while she was on stage during Bad Blood. We know her fans love her, but reaching up and grabbing her is a pretty big no-no. According to the Instagrammer who posted the incident security rushed in and took care of the situation rather quickly. And of course, Taylor did what we assumed she would, she carried on like a pro.\",\"music, taylor swift concert, taylor swift grabbed, taylor swift music, taylor swift tour, fan grabs taylor swift, taylor swift 1989, taylor swift in danger, taylor swift attacked, taylor swift scared, taylor swift scary fan, taylor swift fans, 1989 tour\"\n",
      "Taylor Swift Apologizes to Nicki Minaj,\"Nicki Minaj and Taylor Swift’s epic Twitter war has come to an end! Earlier this week, Nicki Minaj went on a rant after she wasn’t nominated for video of the year at the 2015 MTV Video Music Awards. Country singer Taylor Swift joined the conversation causing a virtual feud between the two artists. Now Taylor Swift is apologizing for her comments she said to the rapper. Check out the video to see what Nicki Minaj had to say about Swift’s apology.\",\"music, taylor swift nicki minaj, nicki minaj, taylor swift, vma nominations, vma feud, vma video of the year, singer taylor swift, taylor swift sorry, nicki minaj body shaming, taylor swift feud, nicki minaj feud, taylor is sorry, taylor swift apology\"\n",
      "\n"
     ]
    }
   ],
   "source": [
    "for k,v in concepts:\n",
    "    print \"Concept Terms:\"\n",
    "    print k\n",
    "    print \"Concepts Documents:\"\n",
    "    print v\n",
    "    for a in v:\n",
    "        if a != 'None':\n",
    "            vidInQuotes = \"'%s'\" % a\n",
    "            query = \"SELECT Info FROM Videos WHERE Id = \" +vidInQuotes\n",
    "            info = sqlContext.sql(query).collect()\n",
    "#             print type(info)\n",
    "            if(len(info) == 1):\n",
    "                print info[0]['Info']\n",
    "    print"
   ]
  },
  {
   "cell_type": "code",
   "execution_count": 376,
   "metadata": {
    "collapsed": false
   },
   "outputs": [],
   "source": [
    "#/* Extracts top documents from top most concepts */\n",
    "topConceptDocs = topDocsInTopConcepts(svd, 10, 5, docIds)"
   ]
  },
  {
   "cell_type": "code",
   "execution_count": 322,
   "metadata": {
    "collapsed": false
   },
   "outputs": [
    {
     "data": {
      "text/plain": [
       "[(None, 0.011675202029950515),\n",
       " (None, 0.011675202029950515),\n",
       " (None, 0.011675202029950515),\n",
       " (None, 0.011675202029950515),\n",
       " (None, 0.011675202029950515)]"
      ]
     },
     "execution_count": 322,
     "metadata": {},
     "output_type": "execute_result"
    }
   ],
   "source": [
    "topConceptDocs[0]"
   ]
  },
  {
   "cell_type": "code",
   "execution_count": 353,
   "metadata": {
    "collapsed": false
   },
   "outputs": [
    {
     "name": "stdout",
     "output_type": "stream",
     "text": [
      "SELECT Info FROM Videos WHERE Id = '0_2umw3t4n'\n",
      "SELECT Info FROM Videos WHERE Id = '0_2umw3t4n'\n",
      "Vogue Fashion Week - Gucci Spring 2016 Ready-to-Wear,\"Runway, backstage, and front row footage from the Milan show. Watch the Gucci Spring 2016 ready-to-wear fashion show from Vogue.com. Want more? Visit Vogue.com for more runway shows, fashion trends, shopping guides, and news about models and designers.\",\"vogue, vogue magazine, fashion, runway shows, fashion week, milan, milan fashion week, gucci, spring 2016, gucci spring 2016, designers, runway, alessandro michele, backstage, fashion week backstage, behind the scenes, fashion week behind the scenes, season: 2016, series: vogue fashion week\"\n"
     ]
    }
   ],
   "source": [
    "from pyspark.sql import Row\n",
    "videoDataMap = nameFromCsv.cache()\n",
    "videosMetaData = videoDataMap.map(lambda x: Row(Id=x[0],Info=x[1]))\n",
    "schemaVideos = spark.createDataFrame(videosMetaData)\n",
    "schemaVideos.createOrReplaceTempView(\"Videos\")\n",
    "vidID = \"0_2umw3t4n\"\n",
    "vidInQuotes = \"'%s'\" % vidID\n",
    "query = \"SELECT Info FROM Videos WHERE Id = \" +vidInQuotes\n",
    "print query\n",
    "print \"SELECT Info FROM Videos WHERE Id = '0_2umw3t4n'\"\n",
    "info = sqlContext.sql(query)\n",
    "print info.collect()[0]['Info']\n",
    "# val videoDataMap =  nameFromCsv.cache\n",
    "# case class Video(Id: String, Info: String)\n",
    "# val videoData = videoDataMap.map{vid => Video(vid._1, vid._2)}.toDF//.count()\n",
    "# videoData.registerTempTable(\"Videos\")\n",
    "# val vidID = \"0_2umw3t4n\"\n",
    "# val query = s\"\"\"SELECT Info FROM Video)s WHERE Id = '$vidID'\"\"\"\n",
    "# println(query)\n",
    "# println(\"SELECT Info FROM Videos WHERE Id = '0_2umw3t4n'\")\n",
    "# val teenagers = sqlContext.sql(query)\n",
    "# // val teenagers = sqlContext.sql(\"SELECT Info FROM Videos WHERE Id = '0_2umw3t4n'\")\n",
    "# val a = teenagers.collect\n",
    "# val b = a(0)"
   ]
  },
  {
   "cell_type": "code",
   "execution_count": 320,
   "metadata": {
    "collapsed": true
   },
   "outputs": [],
   "source": [
    "concepts = zip(zip(*topConceptTerms)[0],zip(*topConceptDocs)[0])"
   ]
  },
  {
   "cell_type": "code",
   "execution_count": 321,
   "metadata": {
    "collapsed": false
   },
   "outputs": [
    {
     "data": {
      "text/plain": [
       "[((u'keine', 1.1310995815820431e-07), (None, 0.011675202029950515)),\n",
       " ((u'newsy', -0.1213702593540309), (u'0_f7ehw5be', 0.053085429253957379)),\n",
       " ((u'newsy', -0.099818218571242845), (u'0_c3f3vacu', 0.096730044104258422)),\n",
       " ((u'apple', -0.55661876623855122), (u'0_2m00zdqm', 0.046371023321351346)),\n",
       " ((u'obama', -0.14967921683467575), (u'0_2m00zdqm', 0.048603486996098857)),\n",
       " ((u'jenner', -0.19436801098007778), (u'0_c2hjrne1', 0.054495228932704254)),\n",
       " ((u'trump', -0.4395676575874139), (u'0_1k5bucis', 0.028207990080057675)),\n",
       " ((u'obama', -0.41863758674198026), (u'0_c3f3vacu', 0.019806367073050737)),\n",
       " ((u'fashion', -0.28781643609347785), (u'0_tjk3tne8', 0.082495883200186401)),\n",
       " ((u'fashion', -0.13567224070538808), (u'0_umhjddd4', 0.13722693500495747))]"
      ]
     },
     "execution_count": 321,
     "metadata": {},
     "output_type": "execute_result"
    }
   ],
   "source": []
  },
  {
   "cell_type": "code",
   "execution_count": null,
   "metadata": {
    "collapsed": true
   },
   "outputs": [],
   "source": []
  }
 ],
 "metadata": {
  "kernelspec": {
   "display_name": "Python 2",
   "language": "python",
   "name": "python2"
  },
  "language_info": {
   "codemirror_mode": {
    "name": "ipython",
    "version": 2
   },
   "file_extension": ".py",
   "mimetype": "text/x-python",
   "name": "python",
   "nbconvert_exporter": "python",
   "pygments_lexer": "ipython2",
   "version": "2.7.12"
  }
 },
 "nbformat": 4,
 "nbformat_minor": 0
}
