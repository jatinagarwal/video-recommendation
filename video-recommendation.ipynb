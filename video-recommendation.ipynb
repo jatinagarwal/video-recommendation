{
 "cells": [
  {
   "cell_type": "code",
   "execution_count": 1,
   "metadata": {
    "collapsed": true
   },
   "outputs": [],
   "source": [
    "from pyspark.sql import SparkSession\n",
    "\n",
    "spark = SparkSession\\\n",
    "    .builder\\\n",
    "    .appName(\"video recommendation\")\\\n",
    "    .config(\"spark.some.config.option\", \"some-value\")\\\n",
    "    .getOrCreate()"
   ]
  },
  {
   "cell_type": "code",
   "execution_count": 2,
   "metadata": {
    "collapsed": true
   },
   "outputs": [],
   "source": [
    "inputPath=\"/home/jatin/Documents/spark-notebook-0.6.2-scala-2.11.7-spark-1.6.0-hadoop-2.2.0-with-hive-with-parquet/videoMetaData3csv/videoMetaDataInCsvFormat\""
   ]
  },
  {
   "cell_type": "code",
   "execution_count": 3,
   "metadata": {
    "collapsed": false
   },
   "outputs": [],
   "source": [
    "englishStopWords = [\"a\", \"about\", \"above\", \"above\", \"across\", \"after\", \"afterwards\", \"again\", \"against\", \"all\", \"almost\", \"alone\", \"along\", \"already\", \"also\",\"although\",\"always\",\"am\",\"among\", \"amongst\", \"amoungst\", \"amount\",  \"an\", \"and\", \"another\", \"any\",\"anyhow\",\"anyone\",\"anything\",\"anyway\", \"anywhere\", \"are\", \"around\", \"as\",  \"at\", \"back\",\"be\",\"became\", \"because\",\"become\",\"becomes\", \"becoming\", \"been\", \"before\", \"beforehand\", \"behind\", \"being\", \"below\", \"beside\", \"besides\", \"between\", \"beyond\", \"bill\", \"both\", \"bottom\",\"but\", \"by\", \"call\", \"can\", \"cannot\", \"cant\", \"co\", \"con\", \"could\", \"couldnt\", \"cry\", \"de\", \"describe\", \"detail\", \"do\", \"done\", \"down\", \"due\", \"during\", \"each\", \"eg\", \"eight\", \"either\", \"eleven\",\"else\", \"elsewhere\", \"empty\", \"enough\", \"etc\", \"even\", \"ever\", \"every\", \"everyone\", \"everything\", \"everywhere\", \"except\", \"few\", \"fifteen\", \"fify\", \"fill\", \"find\", \"fire\", \"first\", \"five\", \"for\", \"former\", \"formerly\", \"forty\", \"found\", \"four\", \"from\", \"front\", \"full\", \"further\", \"get\", \"give\", \"go\", \"had\", \"has\", \"hasnt\", \"have\", \"he\", \"hence\", \"her\", \"here\", \"hereafter\", \"hereby\", \"herein\", \"hereupon\", \"hers\", \"herself\", \"him\", \"himself\", \"his\", \"how\", \"however\", \"hundred\", \"ie\", \"if\", \"in\", \"inc\", \"indeed\", \"interest\", \"into\", \"is\", \"it\", \"its\", \"itself\", \"keep\", \"last\", \"latter\", \"latterly\", \"least\", \"less\", \"ltd\", \"made\", \"many\", \"may\", \"me\", \"meanwhile\", \"might\", \"mill\", \"mine\", \"more\", \"moreover\", \"most\", \"mostly\", \"move\", \"much\", \"must\", \"my\", \"myself\", \"name\", \"namely\", \"neither\", \"never\", \"nevertheless\", \"next\", \"nine\", \"no\", \"nobody\", \"none\", \"noone\", \"nor\", \"not\", \"nothing\", \"now\", \"nowhere\", \"of\", \"off\", \"often\", \"on\", \"once\", \"one\", \"only\", \"onto\", \"or\", \"other\", \"others\", \"otherwise\", \"our\", \"ours\", \"ourselves\", \"out\", \"over\", \"own\",\"part\", \"per\", \"perhaps\", \"please\", \"put\", \"rather\", \"re\", \"same\", \"see\", \"seem\", \"seemed\", \"seeming\", \"seems\", \"serious\", \"several\", \"she\", \"should\", \"show\", \"side\", \"since\", \"sincere\", \"six\", \"sixty\", \"so\", \"some\", \"somehow\", \"someone\", \"something\", \"sometime\", \"sometimes\", \"somewhere\", \"still\", \"such\", \"system\", \"take\", \"ten\", \"than\", \"that\", \"the\", \"their\", \"them\", \"themselves\", \"then\", \"thence\", \"there\", \"thereafter\", \"thereby\", \"therefore\", \"therein\", \"thereupon\", \"these\", \"they\", \"thickv\", \"thin\", \"third\", \"this\", \"those\", \"though\", \"three\", \"through\", \"throughout\", \"thru\", \"thus\", \"to\", \"together\", \"too\", \"top\", \"toward\", \"towards\", \"twelve\", \"twenty\", \"two\", \"un\", \"under\", \"until\", \"up\", \"upon\", \"us\", \"very\", \"via\", \"was\", \"we\", \"well\", \"were\", \"what\", \"whatever\", \"when\", \"whence\", \"whenever\", \"where\", \"whereafter\", \"whereas\", \"whereby\", \"wherein\", \"whereupon\", \"wherever\", \"whether\", \"which\", \"while\", \"whither\", \"who\", \"whoever\", \"whole\", \"whom\", \"whose\", \"why\", \"will\", \"with\", \"within\", \"without\", \"would\", \"yet\", \"you\", \"your\", \"yours\", \"yourself\", \"yourselves\", \"the\"]"
   ]
  },
  {
   "cell_type": "code",
   "execution_count": 4,
   "metadata": {
    "collapsed": false
   },
   "outputs": [
    {
     "data": {
      "text/plain": [
       "59800"
      ]
     },
     "execution_count": 4,
     "metadata": {},
     "output_type": "execute_result"
    }
   ],
   "source": [
    "#Reading file containing video meta data to make initial RDD\n",
    "readFile = sc.textFile(inputPath).cache()\n",
    "readFile.count()"
   ]
  },
  {
   "cell_type": "code",
   "execution_count": 5,
   "metadata": {
    "collapsed": false
   },
   "outputs": [
    {
     "data": {
      "text/plain": [
       "[u'0_04xqwyas,\\'Edge of Alaska\\': Keeping a Frontier Town Remote,All it takes is one big attraction to change everything. Will McCarthy be next?,\"reality tv series, edge of alaska, mccarthy alaska, frontier town, off grid living, takeetna alaska\"',\n",
       " u'0_0m8u8g4c,\\'MythBusters\\': Shark Feeding Frenzy Defense,\"While testing the repelling abilities of \"\"essence of dead shark\"\", Jamie hopes his beret will serve as more than just a fashion statement.\",\"reality tv series, mythbusters, jamie hyneman, adam savage, urban legends, shark myths, feeding frenzy, mythbusters shark tests, shark armor\"',\n",
       " u'0_0pd5gia9,\\'MythBusters\\': A MythBusting Lightsaber Duel,Jamie and Adam put the myth of higher ground to the test in this epic lightsaber battle.,\"reality tv series, mythbusters, jamie hyneman, adam savage, urban legends, lightsaber dueling\"',\n",
       " u'0_0uwz3tkl,Behind the Scenes - Lucky Influencers: What Was Your Fashion First?,\"5 fashion industry influencers, Va$shtie Kola, Lily Kwong, Amirah Kassem, Christina Caradona and Ali Michaels, show off their favorite pieces sold on LuckyShops.com and share their first major purchases.\",\"luckymag.com, lucky magazine, lucky, luckyshops.com, fashion, shopping, style, va$htie kola, lily kwong, amirah kassem, christina caradona, ali michaels, season: season 1, series: behind the scenes\"',\n",
       " u'0_0v2yok9d,How Your Brain Experiences Virtual Reality,Virtual Reality may be the future but maybe not for women. Why does VR affect the sexes differently?,\"virtual reality, vr, sexism, neuroscience, gender, motion parallax, shape-from-shading, neurons, motion sickness, proprioception, oculus rift, perception, eyes, hormones, 3d, 3 dimensional, c-technology, dnews, education, science, discovery news, d news, age=14 15 16 17, julia wilde\"']"
      ]
     },
     "execution_count": 5,
     "metadata": {},
     "output_type": "execute_result"
    }
   ],
   "source": [
    "readFile.take(5)"
   ]
  },
  {
   "cell_type": "code",
   "execution_count": 6,
   "metadata": {
    "collapsed": false
   },
   "outputs": [],
   "source": [
    "# Converting string into (ID,remainingString) format\n",
    "def formatInput(item):\n",
    "     name = item.split(\",\")[0]\n",
    "     return (name,item.replace(name+\",\",\"\"))\n",
    "\n",
    "nameFromCsv = readFile.map(formatInput)\n",
    "#                                name = item.split(\",\")(0)\n",
    "#                               (name,item.replace(name+\",\",\"\"))\n",
    "#                               }"
   ]
  },
  {
   "cell_type": "code",
   "execution_count": 7,
   "metadata": {
    "collapsed": false
   },
   "outputs": [
    {
     "data": {
      "text/plain": [
       "[(u'0_04xqwyas',\n",
       "  u'\\'Edge of Alaska\\': Keeping a Frontier Town Remote,All it takes is one big attraction to change everything. Will McCarthy be next?,\"reality tv series, edge of alaska, mccarthy alaska, frontier town, off grid living, takeetna alaska\"'),\n",
       " (u'0_0m8u8g4c',\n",
       "  u'\\'MythBusters\\': Shark Feeding Frenzy Defense,\"While testing the repelling abilities of \"\"essence of dead shark\"\", Jamie hopes his beret will serve as more than just a fashion statement.\",\"reality tv series, mythbusters, jamie hyneman, adam savage, urban legends, shark myths, feeding frenzy, mythbusters shark tests, shark armor\"')]"
      ]
     },
     "execution_count": 7,
     "metadata": {},
     "output_type": "execute_result"
    }
   ],
   "source": [
    "nameFromCsv.take(2)"
   ]
  },
  {
   "cell_type": "code",
   "execution_count": 8,
   "metadata": {
    "collapsed": false
   },
   "outputs": [],
   "source": [
    "reserveWords = sc.broadcast(englishStopWords)"
   ]
  },
  {
   "cell_type": "code",
   "execution_count": 9,
   "metadata": {
    "collapsed": false
   },
   "outputs": [],
   "source": [
    "import re\n",
    "def bagOfWords(item):\n",
    "    regexSpecialChars = \"\"\"[^a-zA-Z0-9\\s]\"\"\"\n",
    "    noSymbolsLine = re.sub(regexSpecialChars, \" \",item)\n",
    "    stopWords = reserveWords.value\n",
    "    listOfWords = noSymbolsLine.split()\n",
    "    nonEmptyWords = filter(lambda x :x != \"\",listOfWords)\n",
    "    removeReserveWords = []\n",
    "    for word in nonEmptyWords:\n",
    "        if word not in stopWords:\n",
    "            removeReserveWords.append(word.lower())\n",
    "    return removeReserveWords"
   ]
  },
  {
   "cell_type": "code",
   "execution_count": 10,
   "metadata": {
    "collapsed": false
   },
   "outputs": [
    {
     "name": "stdout",
     "output_type": "stream",
     "text": [
      "['edge', 'alaska', 'keeping', 'frontier', '1232', 'town', 'remote', 'all', 'takes', 'big', 'attraction', 'change', 'will', 'mccarthy', 'reality', 'tv', 'series', 'edge', 'alaska', 'mccarthy', 'alaska', 'frontier', 'town', 'grid', 'living', 'takeetna', 'alaska']\n"
     ]
    }
   ],
   "source": [
    "bow = bagOfWords(\"'Edge of Alaska': Keeping a Frontier 1232 Town  @ #Remote,All it takes is () *%* one big attraction to change everything. Will McCarthy be next?,\\\"reality tv series, edge of alaska, mccarthy alaska, frontier town, off grid living, takeetna alaska\\\"\")\n",
    "print bow"
   ]
  },
  {
   "cell_type": "code",
   "execution_count": 11,
   "metadata": {
    "collapsed": false
   },
   "outputs": [],
   "source": [
    "cleandData = nameFromCsv.mapValues(bagOfWords).cache()"
   ]
  },
  {
   "cell_type": "code",
   "execution_count": 12,
   "metadata": {
    "collapsed": false
   },
   "outputs": [],
   "source": [
    "# Cross Checking count of data after cleaning \n",
    "numDocs = cleandData.count()"
   ]
  },
  {
   "cell_type": "code",
   "execution_count": 13,
   "metadata": {
    "collapsed": false
   },
   "outputs": [
    {
     "name": "stdout",
     "output_type": "stream",
     "text": [
      "59800\n"
     ]
    }
   ],
   "source": [
    "print numDocs"
   ]
  },
  {
   "cell_type": "code",
   "execution_count": 14,
   "metadata": {
    "collapsed": true
   },
   "outputs": [],
   "source": [
    "readFile.unpersist()\n",
    "from collections import Counter\n",
    "def calculateTermFreq(item):\n",
    "    return Counter(item).items()"
   ]
  },
  {
   "cell_type": "code",
   "execution_count": 15,
   "metadata": {
    "collapsed": false
   },
   "outputs": [],
   "source": [
    "it = calculateTermFreq(bow)"
   ]
  },
  {
   "cell_type": "code",
   "execution_count": 16,
   "metadata": {
    "collapsed": false
   },
   "outputs": [
    {
     "name": "stdout",
     "output_type": "stream",
     "text": [
      "[('town', 2), ('living', 1), ('keeping', 1), ('remote', 1), ('takes', 1), ('1232', 1), ('frontier', 2), ('tv', 1), ('big', 1), ('alaska', 4), ('mccarthy', 2), ('will', 1), ('attraction', 1), ('edge', 2), ('grid', 1), ('all', 1), ('series', 1), ('takeetna', 1), ('reality', 1), ('change', 1)]\n"
     ]
    }
   ],
   "source": [
    "print it"
   ]
  },
  {
   "cell_type": "code",
   "execution_count": 30,
   "metadata": {
    "collapsed": true
   },
   "outputs": [],
   "source": [
    "termDocumentFrequencies = cleandData.mapValues(calculateTermFreq)"
   ]
  },
  {
   "cell_type": "code",
   "execution_count": 32,
   "metadata": {
    "collapsed": false
   },
   "outputs": [
    {
     "data": {
      "text/plain": [
       "[(u'0_04xqwyas',\n",
       "  [(u'town', 2),\n",
       "   (u'living', 1),\n",
       "   (u'keeping', 1),\n",
       "   (u'remote', 1),\n",
       "   (u'takes', 1),\n",
       "   (u'frontier', 2),\n",
       "   (u'tv', 1),\n",
       "   (u'big', 1),\n",
       "   (u'alaska', 4),\n",
       "   (u'mccarthy', 2),\n",
       "   (u'will', 1),\n",
       "   (u'attraction', 1),\n",
       "   (u'edge', 2),\n",
       "   (u'grid', 1),\n",
       "   (u'all', 1),\n",
       "   (u'series', 1),\n",
       "   (u'takeetna', 1),\n",
       "   (u'reality', 1),\n",
       "   (u'change', 1)])]"
      ]
     },
     "execution_count": 32,
     "metadata": {},
     "output_type": "execute_result"
    }
   ],
   "source": [
    "termDocumentFrequencies.take(1)#[0][0]"
   ]
  },
  {
   "cell_type": "code",
   "execution_count": 19,
   "metadata": {
    "collapsed": false
   },
   "outputs": [],
   "source": [
    "# Assigning unique ids to each term in the document\n",
    "idDocs = termDocumentFrequencies.map(lambda x: x[0]).zipWithUniqueId().collectAsMap()#.toMap"
   ]
  },
  {
   "cell_type": "code",
   "execution_count": 20,
   "metadata": {
    "collapsed": false
   },
   "outputs": [
    {
     "data": {
      "text/plain": [
       "dict"
      ]
     },
     "execution_count": 20,
     "metadata": {},
     "output_type": "execute_result"
    }
   ],
   "source": [
    "type(idDocs)"
   ]
  },
  {
   "cell_type": "code",
   "execution_count": 21,
   "metadata": {
    "collapsed": true
   },
   "outputs": [],
   "source": [
    "docIds = dict((v,k) for k,v in idDocs.iteritems())\n",
    "# docIds.take(2)"
   ]
  },
  {
   "cell_type": "code",
   "execution_count": 22,
   "metadata": {
    "collapsed": false
   },
   "outputs": [
    {
     "data": {
      "text/plain": [
       "u'0_04xqwyas'"
      ]
     },
     "execution_count": 22,
     "metadata": {},
     "output_type": "execute_result"
    }
   ],
   "source": [
    "docIds[0]"
   ]
  },
  {
   "cell_type": "code",
   "execution_count": 23,
   "metadata": {
    "collapsed": false
   },
   "outputs": [],
   "source": [
    "docVect = termDocumentFrequencies.flatMapValues(lambda x:x).values().reduceByKey(lambda x,y:x + y).cache()"
   ]
  },
  {
   "cell_type": "code",
   "execution_count": 24,
   "metadata": {
    "collapsed": false
   },
   "outputs": [
    {
     "data": {
      "text/plain": [
       "PythonRDD[5] at RDD at PythonRDD.scala:48"
      ]
     },
     "execution_count": 24,
     "metadata": {},
     "output_type": "execute_result"
    }
   ],
   "source": [
    "cleandData.unpersist()"
   ]
  },
  {
   "cell_type": "code",
   "execution_count": 25,
   "metadata": {
    "collapsed": false
   },
   "outputs": [
    {
     "data": {
      "text/plain": [
       "34629"
      ]
     },
     "execution_count": 25,
     "metadata": {},
     "output_type": "execute_result"
    }
   ],
   "source": [
    "docVect.count()"
   ]
  },
  {
   "cell_type": "code",
   "execution_count": 37,
   "metadata": {
    "collapsed": false
   },
   "outputs": [
    {
     "data": {
      "text/plain": [
       "u'abenteuerliche'"
      ]
     },
     "execution_count": 37,
     "metadata": {},
     "output_type": "execute_result"
    }
   ],
   "source": [
    "docVect.take(10)[2][0]"
   ]
  },
  {
   "cell_type": "code",
   "execution_count": 41,
   "metadata": {
    "collapsed": false
   },
   "outputs": [],
   "source": [
    "corpusVocab = docVect.filter(lambda item: item[1] > 5 and len(item[0]) > 3).collect()"
   ]
  },
  {
   "cell_type": "code",
   "execution_count": 55,
   "metadata": {
    "collapsed": false
   },
   "outputs": [
    {
     "ename": "AttributeError",
     "evalue": "'list' object has no attribute 'zipWithIndex'",
     "output_type": "error",
     "traceback": [
      "\u001b[1;31m---------------------------------------------------------------------------\u001b[0m",
      "\u001b[1;31mAttributeError\u001b[0m                            Traceback (most recent call last)",
      "\u001b[1;32m<ipython-input-55-1e620b9e0126>\u001b[0m in \u001b[0;36m<module>\u001b[1;34m()\u001b[0m\n\u001b[0;32m     14\u001b[0m \u001b[1;33m\u001b[0m\u001b[0m\n\u001b[0;32m     15\u001b[0m \u001b[1;31m# /* Collecting all the terms after filtering (terms, df) pairs*/\u001b[0m\u001b[1;33m\u001b[0m\u001b[1;33m\u001b[0m\u001b[0m\n\u001b[1;32m---> 16\u001b[1;33m \u001b[0mvocabulary\u001b[0m \u001b[1;33m=\u001b[0m \u001b[0midfsMap\u001b[0m\u001b[1;33m.\u001b[0m\u001b[0mkeys\u001b[0m\u001b[1;33m(\u001b[0m\u001b[1;33m)\u001b[0m\u001b[1;33m.\u001b[0m\u001b[0mzipWithIndex\u001b[0m\u001b[1;33m(\u001b[0m\u001b[1;33m)\u001b[0m\u001b[1;33m\u001b[0m\u001b[0m\n\u001b[0m\u001b[0;32m     17\u001b[0m \u001b[1;33m\u001b[0m\u001b[0m\n\u001b[0;32m     18\u001b[0m \u001b[1;31m# /* Broadcasting vocabulary across all nodes of clusters*/\u001b[0m\u001b[1;33m\u001b[0m\u001b[1;33m\u001b[0m\u001b[0m\n",
      "\u001b[1;31mAttributeError\u001b[0m: 'list' object has no attribute 'zipWithIndex'"
     ]
    }
   ],
   "source": [
    "# FUNCTION TO COMPUTE INVERSE DCOUMENT FREQUENCIES\n",
    "from math import log1p\n",
    "def inverseDocumentFrequencies(docFreqs, numDocs):\n",
    "    return map( lambda tup : (tup[0], log1p(float(numDocs) / tup[1])), docFreqs)\n",
    "\n",
    "\n",
    "#Computing inverse document frequencies 'idfs' from document frequencies\n",
    "idfs = inverseDocumentFrequencies(corpusVocab, numDocs)\n",
    "\n",
    "idfsMap = dict(idfs)\n",
    "\n",
    "# /* Broadcasting 'idfs' across nodes of cluster*/\n",
    "bidfs = sc.broadcast(idfsMap)\n",
    "\n",
    "# /* Collecting all the terms after filtering (terms, df) pairs*/\n",
    "vocabulary = idfsMap.keys().zipWithIndex()\n",
    "\n",
    "# /* Broadcasting vocabulary across all nodes of clusters*/\n",
    "# val termList: Broadcast[Predef.Map[String, Int]] = sc.broadcast(vocabulary)\n",
    "\n",
    "# /* Terms are associated with the ids as shown (id, term) */\n",
    "# val termIds: Predef.Map[Int, String] = vocabulary.map(_.swap).toMap \n"
   ]
  },
  {
   "cell_type": "code",
   "execution_count": 53,
   "metadata": {
    "collapsed": false
   },
   "outputs": [
    {
     "data": {
      "text/plain": [
       "tuple"
      ]
     },
     "execution_count": 53,
     "metadata": {},
     "output_type": "execute_result"
    }
   ],
   "source": [
    "type(idfs[1])"
   ]
  },
  {
   "cell_type": "code",
   "execution_count": null,
   "metadata": {
    "collapsed": true
   },
   "outputs": [],
   "source": []
  }
 ],
 "metadata": {
  "kernelspec": {
   "display_name": "Python 2",
   "language": "python",
   "name": "python2"
  },
  "language_info": {
   "codemirror_mode": {
    "name": "ipython",
    "version": 2
   },
   "file_extension": ".py",
   "mimetype": "text/x-python",
   "name": "python",
   "nbconvert_exporter": "python",
   "pygments_lexer": "ipython2",
   "version": "2.7.12"
  }
 },
 "nbformat": 4,
 "nbformat_minor": 0
}
